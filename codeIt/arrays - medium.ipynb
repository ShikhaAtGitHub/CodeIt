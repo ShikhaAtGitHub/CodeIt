{
 "cells": [
  {
   "cell_type": "code",
   "execution_count": null,
   "id": "b70b2b76",
   "metadata": {},
   "outputs": [],
   "source": [
    "\n",
    "# https://www.linkedin.com/posts/arpit-adlakha-30691a101_from-novice-to-pro-in-dsa-this-will-activity-7116301118653009920-rEc-/?utm_source=share&utm_medium=member_desktop\n",
    "\n",
    "# Two Sum\n",
    "\n",
    "# Sort an array of 0's, 1's, and 2's\n",
    "\n",
    "# Majority Element: Moore's voting Algorithm\n",
    "\n",
    "# Maximum Subarray: Kadane's Algorithm\n",
    "\n",
    "# Stock Buy and Sell: Kadane's Algorithm\n",
    "\n",
    "# Rearrange the array in alternate positives and negatives\n",
    "\n",
    "# Next Permutation:\n",
    "\n",
    "arr = [3, 1, 2]\n",
    "\n",
    "class Solution:\n",
    "    def nextPermutation(self, nums: list) -> None:\n",
    "        # find the breakpoint index\n",
    "        breakpoint = -1\n",
    "        for i in range(len(nums) - 1, 0, -1):\n",
    "            if nums[i] > nums[i - 1]:\n",
    "                breakpoint = i\n",
    "\n",
    "                # find the next largest number than the breakpoint\n",
    "                break\n",
    "        for i in range(len(nums) - 1, breakpoint + 1, -1):\n",
    "            if nums[i] > nums[breakpoint]:\n",
    "                nums[breakpoint], nums[i] = nums[i], nums[breakpoint]\n",
    "\n",
    "        self.reverse(nums, breakpoint + 1)\n",
    "\n",
    "    def reverse(self, nums, start):\n",
    "        end = len(nums) - 1\n",
    "        while start < end:\n",
    "            nums[start], nums[end] = nums[end], nums[start]\n",
    "            start += 1\n",
    "            end -= 1"
   ]
  },
  {
   "cell_type": "code",
   "execution_count": null,
   "id": "0a093a03",
   "metadata": {},
   "outputs": [],
   "source": [
    "# Longest Consecutive Sequence in an Array\n",
    "\n",
    "# count subarray with a given sum\n",
    "\n",
    "# sum range\n",
    "\n",
    "class NumArray:\n",
    "    def __init__(self, nums: list):\n",
    "        self.prefix = [0]\n",
    "\n",
    "        for idx, num in enumerate(nums):\n",
    "            self.prefix.append(self.prefix[-1] + nums[i])\n",
    "\n",
    "    \n",
    "    def sumRange(self, left: int, right: int):\n",
    "        sum_ = self.prefix[right + 1] = self.prefix[left]\n",
    "\n",
    "        return sum_"
   ]
  },
  {
   "cell_type": "code",
   "execution_count": null,
   "id": "f6fda72b",
   "metadata": {},
   "outputs": [],
   "source": [
    "# countSubarrayWithSumK\n",
    "class "
   ]
  },
  {
   "cell_type": "code",
   "execution_count": 4,
   "id": "6bb0f192",
   "metadata": {},
   "outputs": [],
   "source": [
    "# Input: nums = [1,2,3,4,5,6,7], k = 3\n",
    "[7, 6, 5, 4, 3, 2, 1]\n",
    "# Output: [5,6,7,1,2,3,4]\n",
    "class Solution:\n",
    "    def rotate(self, nums, k) -> None:\n",
    "        k = k % len(nums)\n",
    "        nums.reverse()\n",
    "        l = 0\n",
    "        r = k - 1\n",
    "\n",
    "        while l < r:\n",
    "            nums[l], nums[r] = nums[r], nums[l]\n",
    "            l += 1\n",
    "            r -= 1\n",
    "\n",
    "        l = k\n",
    "        r = len(nums) - 1\n",
    "        while l < r:\n",
    "            nums[l], nums[r] = nums[r], nums[l]\n",
    "            l += 1\n",
    "            r -= 1"
   ]
  },
  {
   "cell_type": "code",
   "execution_count": 9,
   "id": "2e9d1068",
   "metadata": {},
   "outputs": [
    {
     "data": {
      "text/plain": [
       "2"
      ]
     },
     "execution_count": 9,
     "metadata": {},
     "output_type": "execute_result"
    }
   ],
   "source": [
    "# Given an integer array nums and an integer k, return the total number of continuous subarrays whose sum equals k.\n",
    "from typing import List\n",
    "from collections import defaultdict\n",
    "\n",
    "nums = [1, 2, 3]\n",
    "k = 3\n",
    "# Output: 2\n",
    "\n",
    "def subarray_sum(nums: List, k) -> int:\n",
    "    count = 0\n",
    "    prefix_sum = 0\n",
    "    prefix_map = defaultdict(int)\n",
    "    prefix_map[0] = 1\n",
    "\n",
    "    for i, num in enumerate(nums):\n",
    "        prefix_sum += num\n",
    "\n",
    "        if (prefix_sum - k) in prefix_map:\n",
    "            count += prefix_map[prefix_sum - k]\n",
    "\n",
    "        prefix_map[prefix_sum] += 1\n",
    "\n",
    "    return count\n",
    "\n",
    "subarray_sum(nums, k)"
   ]
  },
  {
   "cell_type": "code",
   "execution_count": null,
   "id": "2dc76cf9",
   "metadata": {},
   "outputs": [],
   "source": [
    "# Given an array of positive integers nums and a positive integer target, return the minimal length of a contiguous \n",
    "# subarray [num_l, ..., num_r] of which the sum is greater than or equal to target. If no such subarray exists, return 0.\n",
    "\n",
    "def minSubArrayLen(target, nums):\n",
    "    prefix_map = defaultdict(int)\n",
    "    sum_ = 0\n",
    "    mini = float('inf')\n",
    "    # base case\n",
    "    prefix_map[0] = -1\n",
    "\n",
    "    for i, num in enumerate(nums):\n",
    "        sum_ += num\n",
    "\n",
    "        if (sum_- target) in prefix_map:\n",
    "            mini = min(mini, i - prefix_map[sum_- target])\n",
    "\n",
    "        if sum_ not in prefix_map:\n",
    "            prefix_map[sum_] = i\n",
    "\n",
    "    return 0 if mini == float('inf') else mini"
   ]
  },
  {
   "cell_type": "code",
   "execution_count": null,
   "id": "79602b26",
   "metadata": {},
   "outputs": [],
   "source": []
  }
 ],
 "metadata": {
  "kernelspec": {
   "display_name": "insulate_ukraine",
   "language": "python",
   "name": "python3"
  },
  "language_info": {
   "codemirror_mode": {
    "name": "ipython",
    "version": 3
   },
   "file_extension": ".py",
   "mimetype": "text/x-python",
   "name": "python",
   "nbconvert_exporter": "python",
   "pygments_lexer": "ipython3",
   "version": "3.11.5"
  }
 },
 "nbformat": 4,
 "nbformat_minor": 5
}
