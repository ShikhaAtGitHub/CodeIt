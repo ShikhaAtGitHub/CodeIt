{
 "cells": [
  {
   "cell_type": "code",
   "execution_count": null,
   "id": "a3accb7d",
   "metadata": {},
   "outputs": [],
   "source": [
    "# reverse a string\n",
    "\n",
    "def reverse_string(s):\n",
    "    return s[::-1]"
   ]
  },
  {
   "cell_type": "code",
   "execution_count": null,
   "id": "0a7cae95",
   "metadata": {},
   "outputs": [],
   "source": [
    "# palindrome string\n",
    "\n",
    "def is_palindrome(s):\n",
    "    return s == s[::-1]"
   ]
  },
  {
   "cell_type": "code",
   "execution_count": null,
   "id": "6e020b71",
   "metadata": {},
   "outputs": [],
   "source": [
    "# merge two sorted array\n",
    "\n",
    "def merge_sorted_arrays(arr1, arr2):\n",
    "    merged = []\n",
    "\n",
    "    i, j = 0, 0\n",
    "    while i < len(arr1) and j < len(arr2):\n",
    "        if arr1[i] < arr1[j]:\n",
    "            merged.append(arr1[i])\n",
    "            i += 1\n",
    "        else:\n",
    "            merged.append(arr2[j])\n",
    "            j += 1\n",
    "\n",
    "    return merged + arr1[:] + arr2[:]"
   ]
  },
  {
   "cell_type": "code",
   "execution_count": null,
   "id": "04a5397f",
   "metadata": {},
   "outputs": [],
   "source": [
    "# check valid parenthesis\n",
    "\n",
    "def is_valid_parenthesis(s):\n",
    "    stack = []\n",
    "    mapping = {')': '(', '}': '{', ']': '['}\n",
    "\n",
    "    for char in s:\n",
    "        if char in mapping.values():\n",
    "            stack.append(char)\n",
    "        elif char in mapping.keys():\n",
    "            if not stack or stack[-1] != mapping[char]:\n",
    "                return False\n",
    "            stack.pop()\n",
    "\n",
    "    return not stack"
   ]
  },
  {
   "cell_type": "code",
   "execution_count": null,
   "id": "0f1932f7",
   "metadata": {},
   "outputs": [],
   "source": [
    "# reverse parts of the array\n",
    "\n",
    "def rotate_by_k(arr, k):\n",
    "    n = len(arr)\n",
    "    k = k % n\n",
    "    \n",
    "    def reverse(left, right):\n",
    "        while left < right:\n",
    "            arr[left], arr[right] = arr[right], arr[left]\n",
    "            left += 1\n",
    "            right -= 1\n",
    "\n",
    "    reverse(0, n - 1)\n",
    "    reverse(0, n - k - 1)\n",
    "    reverse(n - k, n - 1)"
   ]
  },
  {
   "cell_type": "code",
   "execution_count": null,
   "id": "d2f55102",
   "metadata": {},
   "outputs": [],
   "source": [
    "# Hystack & Needle Problem:\n",
    "\n",
    "def strStr(haystack, needle):\n",
    "    for i in range(len(haystack) - len(needle)):\n",
    "        if haystack[i:i+len(needle)] == needle:\n",
    "            return i\n",
    "    return -1"
   ]
  },
  {
   "cell_type": "code",
   "execution_count": null,
   "id": "dc05eb7c",
   "metadata": {},
   "outputs": [],
   "source": [
    "# Maximum sum of contiguous subarray of size k\n",
    "\n",
    "# brute force way is to use \n",
    "\n",
    "def max_sum_subarray(arr, k):\n",
    "    max_sum = float('-inf')\n",
    "\n",
    "    for i in range(len(arr) - k + 1):\n",
    "        curr_sum += sum(arr[i:i+k])\n",
    "        max_sum = max(max_sum, curr_sum)\n",
    "\n",
    "    return max_sum\n",
    "\n",
    "# sliding window way: Instead of calculating the sum of each subarray of size k from scratch, we can maintain a running sum.\n",
    "\n",
    "def max_sum_subarray(arr, k):\n",
    "    window_sum = sum(arr[:k])\n",
    "    max_sum = window_sum\n",
    "\n",
    "    for i in range(k, len(arr)):\n",
    "        window_sum += arr[i] - arr[i-k] # add a new element, remove an element\n",
    "        max_sum = max(max_sum, window_sum)\n",
    "\n",
    "    return max_sum"
   ]
  },
  {
   "cell_type": "code",
   "execution_count": null,
   "id": "104aa68d",
   "metadata": {},
   "outputs": [],
   "source": [
    "# Move zeroes to the end of the array\n",
    "\n",
    "def move_zeroes(arr):\n",
    "    non_zero = [x for x in arr if x != 0]\n",
    "    zero_count = len(arr) - len(non_zero)\n",
    "    non_zero.extend([0] * zero_count)\n",
    "\n",
    "    for i in range(len(non_zero)):\n",
    "        arr[i] = non_zero[i]\n",
    "\n",
    "# Use two pointers approach to move zeroes to the end of the array"
   ]
  },
  {
   "cell_type": "code",
   "execution_count": null,
   "id": "1714ce49",
   "metadata": {},
   "outputs": [],
   "source": [
    "# Merge Intervals\n",
    "\n",
    "def merge_intervals(intervals):\n",
    "    intervals.sort(key = lambda x: x[0])\n",
    "    merged = []\n",
    "\n",
    "    merged = [intervals[0]]\n",
    "\n",
    "    for start, end in intervals[1:]:\n",
    "        if start <= merged[-1][1]: # if current start is less than the previous end\n",
    "            merged[-1][1] = max(merged[-1][1], end)\n",
    "        else:\n",
    "            merged.append([start, end])\n",
    "\n",
    "    return merged"
   ]
  },
  {
   "cell_type": "code",
   "execution_count": null,
   "id": "e790243d",
   "metadata": {},
   "outputs": [],
   "source": [
    "# find missing number in an array\n",
    "\n",
    "def missing_num(arr):\n",
    "\n",
    "    for i in range(len(arr) + 1):\n",
    "        if i not in arr:\n",
    "            return i\n",
    "    \n",
    "# Optimal Approach\n",
    "\n",
    "def missing_num(arr):\n",
    "    arr_sum = sum(arr)\n",
    "\n",
    "    total_sum = (len(arr) * len(arr) + 1) // 2\n",
    "\n",
    "    return total_sum - arr_sum"
   ]
  },
  {
   "cell_type": "code",
   "execution_count": null,
   "id": "3da43c75",
   "metadata": {},
   "outputs": [],
   "source": [
    "# top k elements in an array\n",
    "\n",
    "# We can do this using heap: TC: O(n log k), SC: O(n)\n",
    "# Another Approach: TC O(n)\n",
    "\n",
    "from collections import Counter\n",
    "\n",
    "def top_k_elements(arr, k):\n",
    "    counter = Counter(arr)\n",
    "    buckets = [0] * len(arr) + 1\n",
    "\n",
    "    for num, freq in counter.items():\n",
    "        if buckets[freq] == 0:\n",
    "            buckets[freq] = [num]\n",
    "        else:\n",
    "            buckets[freq].append(num)\n",
    "\n",
    "    result = []\n",
    "    for i in range(len(buckets)-1, -1, -1):\n",
    "        if buckets[i]:\n",
    "            result.extend(num)\n",
    "        if len(result) >= k:\n",
    "            return result"
   ]
  },
  {
   "cell_type": "code",
   "execution_count": null,
   "id": "e8a6c4f5",
   "metadata": {},
   "outputs": [],
   "source": [
    "# Longest Palindrome Length\n",
    "\n",
    "# Input: s = \"abccccdd\"\n",
    "# Output: 7\n",
    "\n",
    "def longest_palindrome_length(s):\n",
    "    counter = Counter(s)\n",
    "    length = 0\n",
    "    odd_found = False\n",
    "\n",
    "    for char, freq in counter.items():\n",
    "        if freq % 2 == 0:\n",
    "            length += freq\n",
    "        else:\n",
    "            length += freq - 1 # to make odd freq into an even one and then add it to the length\n",
    "            odd_found = True\n",
    "\n",
    "    if odd_found:\n",
    "        return length + 1"
   ]
  }
 ],
 "metadata": {
  "kernelspec": {
   "display_name": "insulate_ukraine",
   "language": "python",
   "name": "python3"
  },
  "language_info": {
   "codemirror_mode": {
    "name": "ipython",
    "version": 3
   },
   "file_extension": ".py",
   "mimetype": "text/x-python",
   "name": "python",
   "nbconvert_exporter": "python",
   "pygments_lexer": "ipython3",
   "version": "3.11.5"
  }
 },
 "nbformat": 4,
 "nbformat_minor": 5
}
