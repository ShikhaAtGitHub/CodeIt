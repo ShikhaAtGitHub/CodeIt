{
 "cells": [
  {
   "cell_type": "code",
   "execution_count": null,
   "id": "43691b6f",
   "metadata": {},
   "outputs": [],
   "source": [
    "# Subset Sum: Given an array arr = [3, 1, 2] and a target sum target, check whether there exists a subset whose elements sum to the target.\n",
    "\n",
    "def isSubsetSum(idx, target, arr):\n",
    "    # Base cases:\n",
    "    if target == 0:\n",
    "        return True\n",
    "    if idx < 0:\n",
    "        return False\n",
    "    \n",
    "    # If current element is less than or equal to target\n",
    "    if arr[idx] <= target:\n",
    "        take = isSubsetSum(idx -1, target - arr[idx], arr)\n",
    "        not_take = isSubsetSum(idx - 1, target, arr)\n",
    "\n",
    "        return take or not_take\n",
    "    else:\n",
    "        return isSubsetSum(idx - 1, target, arr)"
   ]
  },
  {
   "cell_type": "code",
   "execution_count": 3,
   "id": "3fa8e9e0",
   "metadata": {},
   "outputs": [],
   "source": [
    "# Count the number of subsets that sum to target\n",
    "\n",
    "def countSubsetSums(idx, target, arr):\n",
    "    if target == 0:\n",
    "        return 1\n",
    "    if idx < 0:\n",
    "        return 0\n",
    "    \n",
    "    if arr[idx] < target:\n",
    "        take = countSubsetSums(idx - 1, target - arr[idx], arr)\n",
    "        not_take = countSubsetSums(idx - 1, target, arr)\n",
    "        return take + not_take\n",
    "    else:\n",
    "        return countSubsetSums(idx - 1, target, arr)"
   ]
  },
  {
   "cell_type": "code",
   "execution_count": null,
   "id": "a8de96b5",
   "metadata": {},
   "outputs": [],
   "source": [
    "# Print all subsets that sum to target\n",
    "\n",
    "def print_subsets(idx, target, arr, path result):\n",
    "    if target == 0:\n",
    "        result.append(path[:])\n",
    "        return\n",
    "    if idx < 0:\n",
    "        return\n",
    "    \n",
    "    if arr[idx] <= target:\n",
    "        path.append(arr[idx])\n",
    "        print_subsets(idx - 1, target - arr[idx], arr, path)\n",
    "        path.pop()\n",
    "    \n",
    "    print_subsets(idx - 1, target, arr, path) # exclude the current element\n",
    "\n",
    "arr = [3, 1, 2]\n",
    "target = 4\n",
    "result = []\n",
    "# print_subsets(len(arr), target, arr, [], result)\n"
   ]
  },
  {
   "cell_type": "code",
   "execution_count": null,
   "id": "b9eea496",
   "metadata": {},
   "outputs": [],
   "source": [
    "# Combination sum I\n",
    "\n",
    "# Why Combination Sum II uses a for loop instead of pick/not-pick:\n",
    "# In Combination Sum I, since the array is distinct and elements can be reused, we explore using pick (stay at index) and not pick \n",
    "# (move forward).\n",
    "\n",
    "# In Combination Sum II, since elements can’t be reused, we use a for loop to iterate through every possibility at each recursion level \n",
    "# without revisiting the same index, and we skip duplicates to avoid redundant combinations."
   ]
  }
 ],
 "metadata": {
  "kernelspec": {
   "display_name": "insulate_ukraine",
   "language": "python",
   "name": "python3"
  },
  "language_info": {
   "codemirror_mode": {
    "name": "ipython",
    "version": 3
   },
   "file_extension": ".py",
   "mimetype": "text/x-python",
   "name": "python",
   "nbconvert_exporter": "python",
   "pygments_lexer": "ipython3",
   "version": "3.11.5"
  }
 },
 "nbformat": 4,
 "nbformat_minor": 5
}
