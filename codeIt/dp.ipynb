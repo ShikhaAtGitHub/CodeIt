{
 "cells": [
  {
   "cell_type": "markdown",
   "id": "d490dd43",
   "metadata": {},
   "source": [
    "First understand if it is a DP problem:\n",
    "- There no. of ways\n",
    "- If multiple ways to do but which is minimal or miximum output. / we have to perform all the ways and identify the best way.\n",
    "\n",
    "Tricks to write recursion:\n",
    "- Try to represent the problem in terms of index\n",
    "- Do all possible stuff on that index ac to the problem statement.\n",
    "- If ques says:\n",
    "    - sum of all stuffs - count all ways\n",
    "    - Min of all stuffs - find min/max"
   ]
  },
  {
   "cell_type": "code",
   "execution_count": 1,
   "id": "cb1202ff",
   "metadata": {},
   "outputs": [],
   "source": [
    "# Climb Stairs: This problem is similar to fibonacci\n",
    "\n",
    "def func(idx):\n",
    "    # Base Case:\n",
    "    if idx == 0:\n",
    "        return 1\n",
    "    if idx == 1:\n",
    "        return 1\n",
    "    \n",
    "    # So I can either jump 1 or 2 (top bottom approach)\n",
    "    left = func(idx - 1)\n",
    "    right = func(idx - 2)\n",
    "\n",
    "    return left + right"
   ]
  },
  {
   "cell_type": "code",
   "execution_count": null,
   "id": "66469cd0",
   "metadata": {},
   "outputs": [],
   "source": [
    "# Frog Jump\n",
    "height = [10, 20, 30, 10]\n",
    "# 10, 20, 30, 10\n",
    "# Even here we are trying all possible ways. and why not greedy you may ask - because here the array values are not uniformly distributed\n",
    "# as in if we were allowed to sort it then we would know that at every step we are thinking that jumping to the one that give\n",
    "# small difference would be worth it. However, that is not the case. Some ways are giving us a small difference. Therefore, \n",
    "# trying out all possible ways is the key to the problem.\n",
    "\n",
    "def func(idx, a):\n",
    "    # Base Case\n",
    "    if idx == 0:\n",
    "        return 0 # to reach from 0th idx to 0th idx the cost will be 0, correct!\n",
    "    \n",
    "    # Recursive Case:\n",
    "    jump_one = func(idx - 1) + abs(a[idx] - a[idx - 1])\n",
    "    if idx - 2 >= 2:\n",
    "        jump_two = func(idx -2) + abs(a[idx] - a[idx - 2])\n",
    "\n",
    "    return min(jump_one, jump_two)\n",
    "\n",
    "# Now lets try to see if it has overlapping subproblems - convert into memoization\n",
    "# 1. Declare dp array initialized to -1\n",
    "# 2.Before performing any computation for index i, check if dp[idx] is already computed.\n",
    "# 3. Store the result in dp[idx] after computation.\n",
    "\n",
    "def func_dp(idx, height, dp):\n",
    "    # Base Case\n",
    "    if idx == 0:\n",
    "        return 0\n",
    "    \n",
    "    if dp[idx] != -1:\n",
    "        return dp[idx]\n",
    "    \n",
    "    # compute cost of jumping\n",
    "    jump_one = func_dp(idx - 1, height, dp) + abs(height[idx] - height[idx - 1])\n",
    "    if idx > 1:\n",
    "        jump_two = func_dp(idx - 2, height, dp) + abs(height[idx] - height[idx - 2]) \n",
    "\n",
    "    # store the result in dp[idx]\n",
    "    dp[idx] = min(jump_one, jump_two)\n",
    "    return dp[idx]\n",
    "\n",
    "dp = [-1] * len(height)\n",
    "n = len(height)\n",
    "func_dp(n - 1, height, dp)\n",
    "\n",
    "# Now convert into tabulation, key changes:\n",
    "# 1. No recursion: We use a loop to compute the result iteratively.\n",
    "# 2. Base Initialization: We initialize the base case explicitly dp[0] = 0.\n",
    "# 3. Use the same logic for computing the energy as in the recursive case, but update the dp array directly.\n",
    "\n",
    "def func_tab(height): # no idx as a parameter since recursion is not used\n",
    "    dp = [0] * len(height) # why are we initializing here since we are not calling function again and again so \n",
    "    # Base Case:\n",
    "    dp[0] = 0\n",
    "\n",
    "    for i in range(1, n): # tabulation is bottom up, so start from the last element\n",
    "        jump_one = dp[i - 1] + abs(dp[i] - dp[i - 1])\n",
    "\n",
    "        if i > 1:\n",
    "            jump_two = dp[i - 2] + abs(dp[i] - dp[i - 2])\n",
    "\n",
    "    dp[i] = min(jump_one, jump_two)\n",
    "\n",
    "    return dp[-1]"
   ]
  },
  {
   "cell_type": "code",
   "execution_count": null,
   "id": "a6243602",
   "metadata": {},
   "outputs": [],
   "source": [
    "# Frog Jump with K Distances\n",
    "\n"
   ]
  },
  {
   "cell_type": "code",
   "execution_count": null,
   "id": "099880bf",
   "metadata": {},
   "outputs": [],
   "source": []
  }
 ],
 "metadata": {
  "kernelspec": {
   "display_name": "Python 3",
   "language": "python",
   "name": "python3"
  },
  "language_info": {
   "codemirror_mode": {
    "name": "ipython",
    "version": 3
   },
   "file_extension": ".py",
   "mimetype": "text/x-python",
   "name": "python",
   "nbconvert_exporter": "python",
   "pygments_lexer": "ipython3",
   "version": "3.11.5"
  }
 },
 "nbformat": 4,
 "nbformat_minor": 5
}
