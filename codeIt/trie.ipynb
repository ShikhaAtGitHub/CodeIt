{
 "cells": [
  {
   "cell_type": "code",
   "execution_count": null,
   "id": "e1183342",
   "metadata": {},
   "outputs": [],
   "source": [
    "# Sample Input\n",
    "# STDIN           Function\n",
    "# -----           --------\n",
    "# 4               queries[] size n = 4\n",
    "# add hack        queries = ['add hack', 'add hackerrank', 'find hac', 'find hak']\n",
    "# add hackerrank\n",
    "# find hac\n",
    "# find hak\n",
    "\n",
    "# Sample Output\n",
    "# 2\n",
    "# 0\n",
    "\n",
    "def find_contact(queries):\n",
    "    contact = [] # to store the contacts\n",
    "    output = [] # store found contacts\n",
    "\n",
    "    for query in queries:\n",
    "        operation, name = query.split()\n",
    "\n",
    "        if operation == 'add':\n",
    "            contact.append(name)\n",
    "        elif operation == 'find':\n",
    "            count = 0\n",
    "            for contact_name in contact:\n",
    "                if contact_name.startswith(name):\n",
    "                    count += 1\n",
    "        output.append(count)\n",
    "\n",
    "    return output\n",
    "\n",
    "# TC: O(M * N * P) \n",
    "# O(M) for parsing queries\n",
    "# But dominant cost will be O(N * P)\n",
    "# P: len of find 'name'"
   ]
  },
  {
   "cell_type": "code",
   "execution_count": null,
   "id": "3e57de9b",
   "metadata": {},
   "outputs": [],
   "source": []
  }
 ],
 "metadata": {
  "kernelspec": {
   "display_name": "insulate_ukraine",
   "language": "python",
   "name": "python3"
  },
  "language_info": {
   "codemirror_mode": {
    "name": "ipython",
    "version": 3
   },
   "file_extension": ".py",
   "mimetype": "text/x-python",
   "name": "python",
   "nbconvert_exporter": "python",
   "pygments_lexer": "ipython3",
   "version": "3.11.5"
  }
 },
 "nbformat": 4,
 "nbformat_minor": 5
}
