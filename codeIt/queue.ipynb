{
 "cells": [
  {
   "cell_type": "code",
   "execution_count": null,
   "id": "60757f1d",
   "metadata": {},
   "outputs": [],
   "source": [
    "class Queue:\n",
    "    def __init__(self, capacity):\n",
    "        self.queue = []\n",
    "        self.front = 0\n",
    "        self.rear = -1\n",
    "        self.size = 0\n",
    "        self.capacity = capacity\n",
    "\n",
    "    def enqueue(self, item):\n",
    "        if self.is_full():\n",
    "            return\n",
    "        \n",
    "        self.rear = (self.rear + 1) \n",
    "\n",
    "    def dequeue(self):\n",
    "        if self.is_empty():\n",
    "            return None\n",
    "        \n",
    "        item = self.queue[self.front]\n",
    "        "
   ]
  },
  {
   "cell_type": "code",
   "execution_count": null,
   "id": "78dbb8b5",
   "metadata": {},
   "outputs": [],
   "source": [
    "# Implement Priority Queue (min heap module from python)\n",
    "\n",
    "import heapq\n",
    "\n",
    "class PriorityQueue:\n",
    "    def __init__(self):\n",
    "        self.pq = []\n",
    "\n",
    "    def enqueue(self, priority, item):\n",
    "        heapq.heappush(self.heapq, (priority, item))\n",
    "\n",
    "    def dequeue(self):\n",
    "        if self.is_empty():\n",
    "            return None\n",
    "        \n",
    "        return heapq.heappop(self.pq)[1]\n",
    "    \n",
    "    def peek(self):\n",
    "        if self.is_empty():\n",
    "            raise IndexError(\"Priority Queue is empty\")\n",
    "        \n",
    "    def is_empty(self):\n",
    "        return len(self.pq) == 0\n",
    "    \n",
    "    def size(self):\n",
    "        return len(self.pq)"
   ]
  }
 ],
 "metadata": {
  "language_info": {
   "name": "python"
  }
 },
 "nbformat": 4,
 "nbformat_minor": 5
}
