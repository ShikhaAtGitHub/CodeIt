{
 "cells": [
  {
   "cell_type": "code",
   "execution_count": null,
   "id": "87c4535b",
   "metadata": {},
   "outputs": [],
   "source": [
    "# Binary Heap\n",
    "\n",
    "# IMP LINK: https://leetcode.com/problem-list/9n8xbnx1/\n",
    "\n",
    "# It is typically implemented using an array:\n",
    "# For node at index i:\n",
    "# Left child → index 2*i + 1\n",
    "# Right child → index 2*i + 2\n",
    "# Parent → index (i - 1) // 2\n",
    "\n",
    "import heapq\n",
    "# Python's heapq implements a min-heap by default.\n",
    "\n",
    "# Deleting an element in Max Heap means we need to replace the root with the last element and then heapify down.\n",
    "\n",
    "# The lowest non-leaf node is (n/2) - 1\n",
    "\n",
    "# To turn BT into min Heap, we use min heapify\n",
    "\n",
    "# To turn BT into max Heap, we use max heapify\n",
    "\n",
    "# Why log_2 (N)? - because at every step I am only considering n/2 part of the tree. Basically, what's happening here is that I keep\n",
    "# dividing N/2\n",
    "\n",
    "# pop: O(log N)\n",
    "# push: O(log N)\n",
    "# peek: O(1)\n",
    "# delete: O(log N)\n",
    "# search: O(N)\n",
    "# size: O(1)\n",
    "# is_empty: O(1)\n",
    "# heapify: O(N)\n",
    "# heapify_up: O(log N)\n",
    "# heapify_down: O(log N)\n",
    "# Heap Sort: O(N log N)\n",
    "\n",
    "# heapify_up_from: O(log N)\n",
    "# heapify_down_from: O(log N)\n",
    "# heapify_up_from_root: O(log N)\n",
    "# heapify_down_from_root: O(log N)\n",
    "# heapify_up_from_node: O(log N)\n",
    "# heapify_down_from_node: O(log N)\n"
   ]
  },
  {
   "cell_type": "code",
   "execution_count": 2,
   "id": "69ce4c58",
   "metadata": {},
   "outputs": [],
   "source": [
    "# Max Heap\n",
    "\n",
    "class MaxHeap:\n",
    "    def __init__(self):\n",
    "        self.heap = []\n",
    "\n",
    "    def push(self, val):\n",
    "        self.heap.append(val)\n",
    "        self._heapify_up(len(self.heap) - 1)\n",
    "\n",
    "    def pop(self):\n",
    "        if not self.heap:\n",
    "            return None\n",
    "        self._swap(0, len(self.heap) - 1)\n",
    "        max_val = self.heap.pop()\n",
    "        self._heapify_down(0)\n",
    "        return max_val\n",
    "    \n",
    "    def peek(self):\n",
    "        return self.heap[0] if self.heap else None\n",
    "    \n",
    "    def _swap(idx, parent):\n",
    "        self.heap[idx], self.heap[parent] = self.heap[parent], self.heap[idx]\n",
    "    \n",
    "    def _heapify_up(self, idx):\n",
    "        parent = (idx - 1) // 2\n",
    "        while idx > 0 and self.heap[idx] > self.heap[parent]:\n",
    "            self._swap(idx, parent)\n",
    "            idx = parent\n",
    "            parent  = (idx - 1) // 2\n",
    "\n",
    "    def _heapify_down(self, idx):\n",
    "        largest = idx\n",
    "        left = 2 * idx + 1\n",
    "        right = 2 * idx + 2\n",
    "        length = len(self.heap)\n",
    "\n",
    "        if left < length and self.heap[left] > self.heap[largest]:\n",
    "            largest = left\n",
    "        if right < length and self.heap[right] > self.heap[largest]:\n",
    "            largest = right\n",
    "        if largest != idx:\n",
    "            self._swap(idx, largest)\n",
    "            self._heapify_down(largest)"
   ]
  },
  {
   "cell_type": "code",
   "execution_count": 3,
   "id": "079dc6ec",
   "metadata": {},
   "outputs": [],
   "source": [
    "# Building Max Heap from an array\n",
    "\n"
   ]
  },
  {
   "cell_type": "code",
   "execution_count": 4,
   "id": "ac0fe15e",
   "metadata": {},
   "outputs": [
    {
     "name": "stdout",
     "output_type": "stream",
     "text": [
      "Min Heap: [-4, 0, 1, 3, 2, 5, 10, 8, 12, 9]\n"
     ]
    }
   ],
   "source": [
    "# Build Min Heap\n",
    "\n",
    "A = [-4, 3, 1, 0, 2, 5, 10, 8, 12, 9]\n",
    "\n",
    "import heapq\n",
    "heapq.heapify(A)\n",
    "print(\"Min Heap:\", A)"
   ]
  },
  {
   "cell_type": "code",
   "execution_count": 5,
   "id": "d2b12d1a",
   "metadata": {},
   "outputs": [
    {
     "name": "stdout",
     "output_type": "stream",
     "text": [
      "[-4, 0, 1, 3, 2, 5, 10, 8, 12, 9, 4]\n"
     ]
    }
   ],
   "source": [
    "heapq.heappush(A, 4)\n",
    "print(A)"
   ]
  },
  {
   "cell_type": "code",
   "execution_count": 6,
   "id": "14bcdad3",
   "metadata": {},
   "outputs": [
    {
     "data": {
      "text/plain": [
       "[0, 2, 1, 3, 4, 5, 10, 8, 12, 9]"
      ]
     },
     "execution_count": 6,
     "metadata": {},
     "output_type": "execute_result"
    }
   ],
   "source": [
    "heapq.heappop(A)\n",
    "A"
   ]
  },
  {
   "cell_type": "code",
   "execution_count": null,
   "id": "f0379d65",
   "metadata": {},
   "outputs": [],
   "source": [
    "# Heap Sort\n",
    "# Time: O(n log n) - n is for for loop and log n is for heapify, Space: O(n)\n",
    "# NOTE: 0(1) space is possible, but this is complex\n",
    "\n",
    "def heapsort(arr):\n",
    "    heapq.heapify(arr)\n",
    "    new_list = []\n",
    "\n",
    "    for i in range(len(arr)):\n",
    "        minn = heapq.heappop(arr)\n",
    "        new_list.appen(minn)\n",
    "\n",
    "    return new_list"
   ]
  },
  {
   "cell_type": "code",
   "execution_count": 13,
   "id": "e3b2d058",
   "metadata": {},
   "outputs": [
    {
     "data": {
      "text/plain": [
       "[-12, -9, -10, -8, -2, -5, -1, -3, 0, 4]"
      ]
     },
     "execution_count": 13,
     "metadata": {},
     "output_type": "execute_result"
    }
   ],
   "source": [
    "# Since python heapify only supports min heap so let's convert into max heap\n",
    "\n",
    "B = [-4, 3, 1, 0, 2, 5, 10, 8, 12, 9]\n",
    "\n",
    "for i in range(len(B)):\n",
    "    B[i] = -B[i]\n",
    "\n",
    "heapq.heapify(B)\n",
    "B"
   ]
  },
  {
   "cell_type": "code",
   "execution_count": 11,
   "id": "824f06f1",
   "metadata": {},
   "outputs": [
    {
     "data": {
      "text/plain": [
       "12"
      ]
     },
     "execution_count": 11,
     "metadata": {},
     "output_type": "execute_result"
    }
   ],
   "source": [
    "largest = -heapq.heappop(B)\n",
    "largest"
   ]
  },
  {
   "cell_type": "code",
   "execution_count": 16,
   "id": "9bd8bc8d",
   "metadata": {},
   "outputs": [],
   "source": [
    "def is_min_heap(arr):\n",
    "    for i in range(len(arr)):\n",
    "        left = 1*i + 1\n",
    "        right = 2*i + 2\n",
    "\n",
    "        if left < len(arr) and arr[i] > arr[left]:\n",
    "            return False\n",
    "        \n",
    "        if right < len(arr) and arr[i] > arr[right]:\n",
    "            return False\n",
    "        \n",
    "    return True"
   ]
  },
  {
   "cell_type": "code",
   "execution_count": 17,
   "id": "ed54fc4a",
   "metadata": {},
   "outputs": [],
   "source": [
    "# Rearrange the elements of an array in-place so that it satisfies the Min-Heap property.\n",
    "# Why I am starting with last non-leaf node - because if here we are comparing with children (left and right), if we pass leaf node idx, \n",
    "# who will it compare with if it does not have left or right child.\n",
    "\n",
    "def heapify_down(arr, n, i):\n",
    "    smallest = i\n",
    "    left = 2*i + 1\n",
    "    right = 2*i + 2\n",
    "\n",
    "    if left < n and arr[left] < arr[smallest]:\n",
    "        smallest = left\n",
    "    if right < n and arr[right] < arr[smallest]:\n",
    "        smallest = right\n",
    "\n",
    "    if smallest != i: # no swapping required since it is in its right place\n",
    "        arr[i], arr[smallest] = arr[smallest], arr[i]\n",
    "        heapify_down(arr, n, smallest)\n",
    "\n",
    "def build_max_heap(arr):\n",
    "    n = len(arr)\n",
    "    for i in range((n - 2) // 2, -1, -1):\n",
    "        heapify_down(arr, n, i)"
   ]
  },
  {
   "cell_type": "code",
   "execution_count": 18,
   "id": "10d54dee",
   "metadata": {},
   "outputs": [],
   "source": [
    "# Min Heap\n",
    "\n",
    "def heapify_down(arr, n, i):\n",
    "    smallest = i\n",
    "    left = 2 * i + 1\n",
    "    right = 2 * i + 2\n",
    "\n",
    "    if left < n and arr[left] < arr[smallest]:\n",
    "        smallest = left\n",
    "    if right < n and arr[right] < arr[smallest]:\n",
    "        smallest = right\n",
    "\n",
    "    if smallest != i:\n",
    "        arr[i], arr[smallest] = arr[smallest], arr[i]\n",
    "        heapify_down(arr, n, smallest)\n",
    "\n",
    "def build_min_heap(arr):\n",
    "    n = len(arr)\n",
    "    # Start from last non-leaf node and heapify down to root\n",
    "    for i in range((n - 2) // 2, -1, -1):\n",
    "        heapify_down(arr, n, i)"
   ]
  },
  {
   "cell_type": "code",
   "execution_count": null,
   "id": "6abc5d1c",
   "metadata": {},
   "outputs": [],
   "source": [
    "# Convert min Heap to max Heap\n",
    "\n",
    "# Even though a Min-Heap satisfies:\n",
    "# arr[i] ≤ arr[2i + 1] and arr[i] ≤ arr[2i + 2]\n",
    "\n",
    "# We want to rearrange the elements such that:\n",
    "# arr[i] ≥ arr[2i + 1] and arr[i] ≥ arr[2i + 2]\n",
    "\n",
    "# The best way to do this is:\n",
    "# Ignore the min-heap structure, and simply run the standard build_max_heap() on the array.\n",
    "\n",
    "# Whether the input is a min-heap or just a random array — we’re overwriting the tree into a max-heap."
   ]
  }
 ],
 "metadata": {
  "kernelspec": {
   "display_name": "Python 3",
   "language": "python",
   "name": "python3"
  },
  "language_info": {
   "codemirror_mode": {
    "name": "ipython",
    "version": 3
   },
   "file_extension": ".py",
   "mimetype": "text/x-python",
   "name": "python",
   "nbconvert_exporter": "python",
   "pygments_lexer": "ipython3",
   "version": "3.11.5"
  }
 },
 "nbformat": 4,
 "nbformat_minor": 5
}
