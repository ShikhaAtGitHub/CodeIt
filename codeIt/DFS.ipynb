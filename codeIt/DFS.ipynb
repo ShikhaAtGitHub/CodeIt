{
 "cells": [
  {
   "cell_type": "markdown",
   "metadata": {},
   "source": [
    "1. 📝 Problem Statement:\n",
    "Given a 2D grid grid of '1's (land) and '0's (water), count the number of islands.\n",
    "\n",
    "An island is formed by connecting adjacent lands horizontally or vertically. You may assume all four edges of the grid are surrounded by water.\n",
    "\n",
    "Your task is to count how many islands exist in the given grid."
   ]
  },
  {
   "cell_type": "markdown",
   "metadata": {},
   "source": [
    "2. Flood Fill\n",
    "\n",
    "You are given an image represented by a 2D grid of integers, where each integer represents the color of a pixel.\n",
    "You are also given the sr (starting row) and sc (starting column) of the pixel to start flood fill and the newColor you want to apply.\n",
    "\n",
    "Flood fill the image using 4-directional movement starting from (sr, sc), changing all connected pixels of the same original color to the newColor."
   ]
  },
  {
   "cell_type": "code",
   "execution_count": 3,
   "metadata": {},
   "outputs": [],
   "source": [
    "def floodFill(image, sr, sc, newColor):\n",
    "    rows, cols = len(image), len(image[0])\n",
    "\n",
    "    visited = [[False for _ in range(cols)] for _ in range(rows)]\n",
    "    original_color = image[sr][sc]\n",
    "\n",
    "    # directions 4 up, right, down, left\n",
    "    dr = [-1, 0, 1, 0]\n",
    "    dc = [0, 1, 0, -1]\n",
    "\n",
    "    def dfs(row, col):\n",
    "        visited[row][col] = True\n",
    "        image[row][col] = newColor\n",
    "\n",
    "        for i in range(4):\n",
    "            nrow, ncol = row + dr[i], col + dc[i]\n",
    "\n",
    "            if 0 <= nrow < rows and 0 <= ncol < cols and not visited[nrow][ncol] and image[nrow][ncol] == original_color:\n",
    "                dfs(nrow, ncol)\n",
    "    dfs(sr, sc)\n",
    "    return image\n"
   ]
  },
  {
   "cell_type": "code",
   "execution_count": 4,
   "metadata": {},
   "outputs": [
    {
     "data": {
      "text/plain": [
       "[[2, 2, 2], [2, 2, 0], [2, 0, 1]]"
      ]
     },
     "execution_count": 4,
     "metadata": {},
     "output_type": "execute_result"
    }
   ],
   "source": [
    "image = [\n",
    "  [1, 1, 1],\n",
    "  [1, 1, 0],\n",
    "  [1, 0, 1]\n",
    "]\n",
    "sr = 1\n",
    "sc = 1\n",
    "newColor = 2\n",
    "floodFill(image, sr, sc, newColor)"
   ]
  },
  {
   "cell_type": "markdown",
   "metadata": {},
   "source": [
    "3. You are given an n x n matrix isConnected where isConnected[i][j] = 1 means the i-th city is directly connected to the j-th city, and 0 means no direct connection.\n",
    "\n",
    "A province is a group of directly or indirectly connected cities.\n",
    "Return the total number of provinces."
   ]
  },
  {
   "cell_type": "code",
   "execution_count": 6,
   "metadata": {},
   "outputs": [],
   "source": [
    "def provinces(isConnected):\n",
    "    n = len(isConnected)\n",
    "\n",
    "    visited = [False] * n\n",
    "\n",
    "    def dfs(i):\n",
    "        visited[i] = True\n",
    "        for neighbor in range(n):\n",
    "            if isConnected[i][neighbor] == 1 and not visited[neighbor]:\n",
    "                dfs(neighbor)\n",
    "    province_count = 0\n",
    "    for i in range(n):\n",
    "        if not visited[i]:\n",
    "            province_count += 1\n",
    "            dfs(i)\n",
    "    return province_count"
   ]
  },
  {
   "cell_type": "code",
   "execution_count": 7,
   "metadata": {},
   "outputs": [
    {
     "data": {
      "text/plain": [
       "2"
      ]
     },
     "execution_count": 7,
     "metadata": {},
     "output_type": "execute_result"
    }
   ],
   "source": [
    "isConnected = [\n",
    "  [1, 1, 0],\n",
    "  [1, 1, 0],\n",
    "  [0, 0, 1]\n",
    "]\n",
    "\n",
    "provinces(isConnected)"
   ]
  },
  {
   "cell_type": "markdown",
   "metadata": {},
   "source": [
    "4. You are given an m x n matrix board containing characters 'X' and 'O'.\n",
    "\n",
    "Capture all regions that are 4-directionally surrounded by 'X'.\n",
    "\n",
    "A region is captured by flipping all 'O's into 'X's in that surrounded region.\n",
    "\n",
    "A region is not captured if it has any 'O' connected to the border."
   ]
  },
  {
   "cell_type": "code",
   "execution_count": 8,
   "metadata": {},
   "outputs": [],
   "source": [
    "board = [\n",
    "  [\"X\", \"X\", \"X\", \"X\"],\n",
    "  [\"X\", \"O\", \"O\", \"X\"],\n",
    "  [\"X\", \"X\", \"O\", \"X\"],\n",
    "  [\"X\", \"O\", \"X\", \"X\"]\n",
    "]\n"
   ]
  },
  {
   "cell_type": "markdown",
   "metadata": {},
   "source": [
    "5.\n",
    "🧠 Problem Statement (Interview Style)\n",
    "You're given a 2D grid grid[][] of size n x m consisting of only '0's (water) and '1's (land). An island is a group of connected 1s in 4 directions (up, down, left, right).\n",
    "\n",
    "Your task:\n",
    "Return the number of distinct islands. Two islands are considered distinct if and only if their shapes are different, regardless of position on the grid."
   ]
  },
  {
   "cell_type": "code",
   "execution_count": 13,
   "metadata": {},
   "outputs": [],
   "source": [
    "grid = [\n",
    "  [1, 1, 0, 0, 0],\n",
    "  [1, 0, 0, 0, 0],\n",
    "  [1, 1, 0, 1, 1],\n",
    "  [0, 0, 0, 1, 1]\n",
    "]\n",
    "\n",
    "# Output: \n",
    "# 2"
   ]
  },
  {
   "cell_type": "code",
   "execution_count": 33,
   "metadata": {},
   "outputs": [],
   "source": [
    "def countDistinctIslands(grid):\n",
    "    n = len(grid)\n",
    "    m = len(grid[0])\n",
    "\n",
    "    visited = [[False for _ in range(m)] for _ in range(n)]\n",
    "    shapes = set()\n",
    "    dr = [-1, 0, 1, 0]\n",
    "    dc = [0, 1, 0, -1]\n",
    "\n",
    "    def dfs(row, col, base_r, base_c, sh):\n",
    "        visited[row][col] = True # as soon as we accept this to be our visited row and col we update shapes relative to the base\n",
    "        sh.append((row - base_r, col - base_c)) \n",
    "        print(sh)\n",
    "        for i in range(4):\n",
    "            nrow = row + dr[i]\n",
    "            ncol = col + dc[i]\n",
    "\n",
    "            if 0 <= nrow < n and 0 <= ncol < m and grid[nrow][ncol] == 1 and not visited[nrow][ncol]:\n",
    "                dfs(nrow, ncol, base_r, base_c, sh)\n",
    "                \n",
    "        return sh\n",
    "\n",
    "    # main traversal\n",
    "    for i in range(n):\n",
    "        for j in range(m):\n",
    "            if grid[i][j] == 1 and not visited[i][j]:\n",
    "                shape = []\n",
    "                dfs(i, j, i, j, shape)\n",
    "                shapes.add(tuple(shape))\n",
    "                print('Shapes Inside:', shapes)\n",
    "    print('Shapes Inside:', shapes)\n",
    "    return len(shapes)"
   ]
  },
  {
   "cell_type": "code",
   "execution_count": 34,
   "metadata": {},
   "outputs": [
    {
     "name": "stdout",
     "output_type": "stream",
     "text": [
      "[(0, 0)]\n",
      "[(0, 0), (0, 1)]\n",
      "[(0, 0), (0, 1), (1, 0)]\n",
      "[(0, 0), (0, 1), (1, 0), (2, 0)]\n",
      "[(0, 0), (0, 1), (1, 0), (2, 0), (2, 1)]\n",
      "Shapes Inside: {((0, 0), (0, 1), (1, 0), (2, 0), (2, 1))}\n",
      "[(0, 0)]\n",
      "[(0, 0), (0, 1)]\n",
      "[(0, 0), (0, 1), (1, 1)]\n",
      "[(0, 0), (0, 1), (1, 1), (1, 0)]\n",
      "Shapes Inside: {((0, 0), (0, 1), (1, 0), (2, 0), (2, 1)), ((0, 0), (0, 1), (1, 1), (1, 0))}\n",
      "Shapes Inside: {((0, 0), (0, 1), (1, 0), (2, 0), (2, 1)), ((0, 0), (0, 1), (1, 1), (1, 0))}\n",
      "2\n"
     ]
    }
   ],
   "source": [
    "print(countDistinctIslands(grid))"
   ]
  },
  {
   "cell_type": "markdown",
   "metadata": {},
   "source": [
    "6. Given an m x n grid of characters board and a string word, return true if word exists in the grid.\n",
    "\n",
    "The word can be constructed from letters of sequentially adjacent cells (horizontally or vertically). The same letter cell may not be used more than once."
   ]
  },
  {
   "cell_type": "code",
   "execution_count": 35,
   "metadata": {},
   "outputs": [],
   "source": [
    "board = [\n",
    "    ['A','B','C','E'],\n",
    "    ['S','F','C','S'],\n",
    "    ['A','D','E','E']\n",
    "]\n",
    "word = \"ABCCED\""
   ]
  },
  {
   "cell_type": "markdown",
   "metadata": {},
   "source": [
    "🔍 Strategy (Interview Style):\n",
    "- Goal: We want to determine whether a given word exists in the board by traversing adjacent characters (up, down, left, right) without reusing any cell.\n",
    "\n",
    "- Traversal Technique: This is a classic use-case of DFS, where we explore all valid paths from any cell matching the first character.\n",
    "\n",
    "- Avoiding revisits: Use a visited matrix or temporarily mark the cell as visited to avoid cycles.\n",
    "\n",
    "- Backtracking: If a path doesn't lead to a solution, revert the change and backtrack to explore other paths."
   ]
  },
  {
   "cell_type": "code",
   "execution_count": 36,
   "metadata": {},
   "outputs": [],
   "source": [
    "def exist(board, word):\n",
    "    rows, cols = len(board), len(board[0])\n",
    "    visited = [[False for _ in range(cols)] for _ in range(rows)]\n",
    "\n",
    "    dr = [-1, 0, 1, 0]\n",
    "    dc = [0, 1, 0, -1]\n",
    "\n",
    "    def dfs(row, col, idx):\n",
    "        if idx == len(word):\n",
    "            return True\n",
    "        \n",
    "        if row < 0 or row >= rows or col < 0 or col >= cols:\n",
    "            return False\n",
    "        if board[row][col] != word[idx]:\n",
    "            return False\n",
    "        \n",
    "        visited[row][col] = True\n",
    "\n",
    "        for i in range(4):\n",
    "            nrow = row + dr[i]\n",
    "            ncol = col + dc[i]\n",
    "\n",
    "            if dfs(nrow, ncol, idx + 1):\n",
    "                return True\n",
    "        visited[row][col] = False\n",
    "        return False\n",
    "    \n",
    "    for i in range(rows):\n",
    "        for j in range(cols):\n",
    "            if board[i][j] == word[0]:\n",
    "                if dfs(i, j, 0):\n",
    "                    return True\n",
    "    return False\n",
    "    \n"
   ]
  },
  {
   "cell_type": "code",
   "execution_count": 37,
   "metadata": {},
   "outputs": [
    {
     "data": {
      "text/plain": [
       "True"
      ]
     },
     "execution_count": 37,
     "metadata": {},
     "output_type": "execute_result"
    }
   ],
   "source": [
    "exist(board, word)"
   ]
  },
  {
   "cell_type": "markdown",
   "metadata": {},
   "source": [
    "7.\n",
    "🌴 Problem: Island Perimeter\n",
    "(DFS – Amazon, PayPal)\n",
    "\n",
    "❓ Problem Statement\n",
    "You are given a 2D grid where:\n",
    "\n",
    "0 represents water\n",
    "\n",
    "1 represents land\n",
    "\n",
    "The grid is completely surrounded by water, and there is exactly one island (i.e., one or more 1s that are connected horizontally or vertically).\n",
    "\n",
    "You need to return the perimeter of the island."
   ]
  },
  {
   "cell_type": "code",
   "execution_count": 40,
   "metadata": {},
   "outputs": [],
   "source": [
    "def islandPerimeter(grid):\n",
    "    n = len(grid)\n",
    "    m = len(grid[0])\n",
    "    \n",
    "    # 1) Create a visited matrix\n",
    "    visited = [[False for _ in range(m)] for _ in range(n)]\n",
    "    \n",
    "    # 2) Direction vectors for 4 directions\n",
    "    drow = [-1, 0, 1, 0]  # Up, Right, Down, Left\n",
    "    dcol = [0, 1, 0, -1]\n",
    "    \n",
    "    def dfs(row, col):\n",
    "        # 3) Mark current cell as visited\n",
    "        visited[row][col] = True\n",
    "        perimeter = 0\n",
    "        \n",
    "        # 4) Check all 4 directions\n",
    "        for i in range(4):\n",
    "            nrow = row + drow[i]\n",
    "            ncol = col + dcol[i]\n",
    "            \n",
    "            # 5) If neighbor is out of bounds or water, it contributes to perimeter\n",
    "            if (nrow < 0 or nrow >= n or ncol < 0 or ncol >= m or grid[nrow][ncol] == 0):\n",
    "                perimeter += 1\n",
    "            # 6) If it's land and not visited, recurse\n",
    "            elif not visited[nrow][ncol]:\n",
    "                perimeter += dfs(nrow, ncol)\n",
    "                \n",
    "        return perimeter\n",
    "    total_perimeter = 0\n",
    "    # 7) Start DFS from the first land cell we find\n",
    "    for i in range(n):\n",
    "        for j in range(m):\n",
    "            if grid[i][j] == 1:\n",
    "                return dfs(i, j)\n",
    "                # total_perimeter += dfs(i, j)\n",
    "    return 0\n",
    "    # return total_perimeter\n"
   ]
  },
  {
   "cell_type": "code",
   "execution_count": 41,
   "metadata": {},
   "outputs": [
    {
     "data": {
      "text/plain": [
       "12"
      ]
     },
     "execution_count": 41,
     "metadata": {},
     "output_type": "execute_result"
    }
   ],
   "source": [
    "islandPerimeter(grid)"
   ]
  },
  {
   "cell_type": "markdown",
   "metadata": {},
   "source": [
    "8.\n",
    "\n",
    "🌊 Maximum Area of Island\n",
    "❓ Problem Statement\n",
    "\n",
    "Prompt:\n",
    "You are given a 2D grid of 0's and 1's.\n",
    "\n",
    "1 represents land\n",
    "0 represents water\n",
    "\n",
    "An island is formed by connecting adjacent lands horizontally or vertically.\n",
    "Find the maximum area of an island in the grid."
   ]
  },
  {
   "cell_type": "code",
   "execution_count": 42,
   "metadata": {},
   "outputs": [],
   "source": [
    "def maxAreaOfIsland(grid):\n",
    "    n, m  = len(grid), len(grid[0])\n",
    "\n",
    "    visited = [[False for _ in range(m)] for _ in range(n)]\n",
    "\n",
    "    dr = [-1, 0, 1, 0]\n",
    "    dc = [0, 1, 0, -1]\n",
    "\n",
    "    def dfs(row, col):\n",
    "        visited[row][col] = True\n",
    "        area = 1\n",
    "\n",
    "        for i in range(4):\n",
    "            nrow, ncol = row + dr[i], col + dc[i]\n",
    "            if 0 <= nrow < n and 0 <= ncol < m and grid[nrow][ncol] == 1 and not visited[nrow][ncol]:\n",
    "                area += dfs(nrow, ncol)\n",
    "\n",
    "        return area\n",
    "    \n",
    "    # main\n",
    "    max_area = 0\n",
    "    for i in range(n):\n",
    "        for j in range(m):\n",
    "            if grid[i][j] == 1 and not visited[i][j]:\n",
    "                area = dfs(i, j)\n",
    "                max_area = max(max_area, area)\n",
    "    return max_area"
   ]
  },
  {
   "cell_type": "code",
   "execution_count": 43,
   "metadata": {},
   "outputs": [
    {
     "name": "stdout",
     "output_type": "stream",
     "text": [
      "4\n"
     ]
    }
   ],
   "source": [
    "grid = [\n",
    "  [0, 0, 1, 0, 0, 0, 1],\n",
    "  [0, 1, 1, 0, 0, 1, 1],\n",
    "  [0, 0, 0, 0, 1, 0, 0],\n",
    "  [1, 1, 0, 0, 1, 1, 1]\n",
    "]\n",
    "\n",
    "print(maxAreaOfIsland(grid))"
   ]
  },
  {
   "cell_type": "code",
   "execution_count": null,
   "metadata": {},
   "outputs": [],
   "source": []
  }
 ],
 "metadata": {
  "kernelspec": {
   "display_name": "insulate_ukraine",
   "language": "python",
   "name": "python3"
  },
  "language_info": {
   "codemirror_mode": {
    "name": "ipython",
    "version": 3
   },
   "file_extension": ".py",
   "mimetype": "text/x-python",
   "name": "python",
   "nbconvert_exporter": "python",
   "pygments_lexer": "ipython3",
   "version": "3.11.5"
  }
 },
 "nbformat": 4,
 "nbformat_minor": 2
}
