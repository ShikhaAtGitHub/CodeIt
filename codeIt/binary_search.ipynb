{
 "cells": [
  {
   "cell_type": "code",
   "execution_count": null,
   "id": "bbb9c1e8",
   "metadata": {},
   "outputs": [],
   "source": [
    "# minimum in rotated sorted array\n",
    "#  0  1  2  3  4  5  6\n",
    "# [4, 5, 6, 7, 0, 1, 2] \n",
    "\n",
    "# mini = 4 -> 1 -> 0\n",
    "# what if we have something like \n",
    "[4, 5, 1, 2, 3]\n",
    "\n",
    "def findMin(nums):\n",
    "    l, r = 0, len(nums) - 1\n",
    "\n",
    "    while l < r:\n",
    "        mid = (l + r) // 2\n",
    "\n",
    "        if nums[mid] > nums[r]:\n",
    "            l = mid + 1\n",
    "        else:\n",
    "            r = mid\n",
    "\n",
    "    return nums[l]"
   ]
  },
  {
   "cell_type": "code",
   "execution_count": null,
   "id": "b4089c55",
   "metadata": {},
   "outputs": [],
   "source": []
  },
  {
   "cell_type": "code",
   "execution_count": null,
   "id": "6fab6f18",
   "metadata": {},
   "outputs": [],
   "source": [
    "# search in rotated sorted array\n",
    "# target  = 5, target = 0\n",
    "#  0  1  2  3  4  5  6\n",
    "# [4, 5, 6, 7, 0, 1, 2]\n",
    "\n",
    "def search_rotates_array(nums, target):\n",
    "    l, r = 0, len(nums) - 1\n",
    "\n",
    "    while l <= r:\n",
    "        mid = (l + r) // 2\n",
    "\n",
    "        if nums[mid] == target:\n",
    "            return mid\n",
    "\n",
    "        # identify the sorted half\n",
    "        if nums[l] <= nums[mid]: # left is sorted\n",
    "            if nums[l] <= target and target < nums[mid]:\n",
    "                r = mid - 1\n",
    "            else:\n",
    "                l = mid + 1\n",
    "        else: # left is not sorted, right is sorted\n",
    "            if nums[mid] <= target and target <= nums[r]:\n",
    "                l = mid + 1\n",
    "            else:\n",
    "                r = mid - 1"
   ]
  },
  {
   "cell_type": "code",
   "execution_count": null,
   "id": "051d7d4e",
   "metadata": {},
   "outputs": [],
   "source": [
    "# Partitioning Problem:\n",
    "\n",
    "# Best example for optimizing partitioning\n",
    "# Split in such a way that the maximum subarray sum is the minimum\n",
    "# Max(Min) -> apply Binary Sum"
   ]
  }
 ],
 "metadata": {
  "kernelspec": {
   "display_name": "insulate_ukraine",
   "language": "python",
   "name": "python3"
  },
  "language_info": {
   "codemirror_mode": {
    "name": "ipython",
    "version": 3
   },
   "file_extension": ".py",
   "mimetype": "text/x-python",
   "name": "python",
   "nbconvert_exporter": "python",
   "pygments_lexer": "ipython3",
   "version": "3.11.5"
  }
 },
 "nbformat": 4,
 "nbformat_minor": 5
}
