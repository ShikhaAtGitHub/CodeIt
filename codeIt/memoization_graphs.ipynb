{
 "cells": [
  {
   "cell_type": "markdown",
   "metadata": {},
   "source": [
    "1. \n",
    "🧾 Problem Statement:\n",
    "Given an m x n integer matrix, return the length of the longest increasing path in the matrix.\n",
    "\n",
    "From each cell, you can move in four directions (up, down, left, right). You may not move diagonally or move outside the boundary.\n",
    "\n",
    "You may only move to a cell with a strictly greater value than the current one."
   ]
  },
  {
   "cell_type": "code",
   "execution_count": 5,
   "metadata": {},
   "outputs": [],
   "source": [
    "from typing import List\n",
    "\n",
    "\n",
    "def longestIncreasingPath(matrix: List[List[int]]) -> int:\n",
    "    # 1) Get matrix dimensions\n",
    "    rows, cols = len(matrix), len(matrix[0])\n",
    "    \n",
    "    # 2) Create a DP memoization table initialized to 0\n",
    "    dp = [[0 for _ in range(cols)] for _ in range(rows)]\n",
    "    \n",
    "    # 3) Direction vectors: up, right, down, left\n",
    "    drow = [-1, 0, 1, 0]\n",
    "    dcol = [0, 1, 0, -1]\n",
    "\n",
    "    # 4) DFS function to explore increasing path from (r, c)\n",
    "    def dfs(r, c):\n",
    "        # If already computed, return the result\n",
    "        if dp[r][c] != 0:\n",
    "            return dp[r][c]\n",
    "        \n",
    "        max_len = 1  # At least the cell itself\n",
    "        \n",
    "        for i in range(4):\n",
    "            new_r, new_c = r + drow[i], c + dcol[i]\n",
    "            \n",
    "            # Check bounds and increasing condition\n",
    "            if 0 <= new_r < rows and 0 <= new_c < cols and matrix[new_r][new_c] > matrix[r][c]:\n",
    "                length = 1 + dfs(new_r, new_c)\n",
    "                max_len = max(max_len, length)\n",
    "        \n",
    "        dp[r][c] = max_len  # Memoize the result\n",
    "        return max_len\n",
    "\n",
    "    # 5) Try starting from every cell and keep track of max path\n",
    "    max_path = 0\n",
    "    for i in range(rows):\n",
    "        for j in range(cols):\n",
    "            max_path = max(max_path, dfs(i, j))\n",
    "\n",
    "    return max_path"
   ]
  },
  {
   "cell_type": "code",
   "execution_count": 6,
   "metadata": {},
   "outputs": [
    {
     "data": {
      "text/plain": [
       "4"
      ]
     },
     "execution_count": 6,
     "metadata": {},
     "output_type": "execute_result"
    }
   ],
   "source": [
    "matrix = [\n",
    "  [9, 9, 4],\n",
    "  [6, 6, 8],\n",
    "  [2, 1, 1]\n",
    "]\n",
    "longestIncreasingPath(matrix)"
   ]
  },
  {
   "cell_type": "markdown",
   "metadata": {},
   "source": [
    "2.\n",
    "🚀 Problem 2: Minimum Falling Path Sum\n",
    "\n",
    "Given an n x n integer matrix, return the minimum falling path sum.\n",
    "\n",
    "A falling path starts at any element in the first row and chooses one element from the next row that is either directly below or diagonally left/right. The process continues until the last row.\n",
    "\n",
    "💡 Explanation\n",
    "\n",
    "The path 1 → 4 → 8 gives the minimum sum: 1 + 4 + 8 = 13"
   ]
  },
  {
   "cell_type": "code",
   "execution_count": 7,
   "metadata": {},
   "outputs": [],
   "source": [
    "matrix = [\n",
    "  [2, 1, 3],\n",
    "  [6, 5, 4],\n",
    "  [7, 8, 9]\n",
    "]"
   ]
  },
  {
   "cell_type": "code",
   "execution_count": 8,
   "metadata": {},
   "outputs": [],
   "source": [
    "def minFallingPath(matrix):\n",
    "    n = len(matrix)\n",
    "    dp = [[-1 for _ in range(n)] for _ in range(n)]\n",
    "\n",
    "    dr = [1, 1, 1]\n",
    "    dc = [-1, 0, 1]\n",
    "\n",
    "    def dfs(row, col):\n",
    "        if row == n - 1:\n",
    "            return matrix[row][col]\n",
    "        \n",
    "        if dp[row][col] != -1:\n",
    "            return dp[row][col]\n",
    "        \n",
    "        min_sum = float('inf')\n",
    "        for i in range(3):\n",
    "            nrow, ncol = row + dr[i], col + dc[i]\n",
    "            if 0 <= nrow < n and 0 <= ncol < n:\n",
    "                sum_path = matrix[row][col] + dfs(nrow, ncol)\n",
    "                min_sum = min(min_sum, sum_path)\n",
    "\n",
    "        dp[row][col] = min_sum\n",
    "        return dp[row][col]\n",
    "\n",
    "    result = float('inf')\n",
    "    for col in range(n):\n",
    "        result = min(result, dfs(0, col))\n",
    "\n",
    "    return result"
   ]
  },
  {
   "cell_type": "code",
   "execution_count": 9,
   "metadata": {},
   "outputs": [
    {
     "data": {
      "text/plain": [
       "13"
      ]
     },
     "execution_count": 9,
     "metadata": {},
     "output_type": "execute_result"
    }
   ],
   "source": [
    "minFallingPath(matrix)"
   ]
  },
  {
   "cell_type": "code",
   "execution_count": null,
   "metadata": {},
   "outputs": [],
   "source": []
  }
 ],
 "metadata": {
  "kernelspec": {
   "display_name": "insulate_ukraine",
   "language": "python",
   "name": "python3"
  },
  "language_info": {
   "codemirror_mode": {
    "name": "ipython",
    "version": 3
   },
   "file_extension": ".py",
   "mimetype": "text/x-python",
   "name": "python",
   "nbconvert_exporter": "python",
   "pygments_lexer": "ipython3",
   "version": "3.11.5"
  }
 },
 "nbformat": 4,
 "nbformat_minor": 2
}
