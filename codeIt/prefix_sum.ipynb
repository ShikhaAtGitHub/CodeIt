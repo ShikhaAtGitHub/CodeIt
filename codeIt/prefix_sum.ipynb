{
 "cells": [
  {
   "cell_type": "markdown",
   "id": "f28ed86a",
   "metadata": {},
   "source": [
    "Running Sum of 1D Array\n",
    "\n",
    "Problem: Given an array nums, return an array runningSum where runningSum[i] = sum(nums[0]...nums[i]).\n",
    "Input: nums = [1, 2, 3, 4]\n",
    "Output: [1, 3, 6, 10]\n",
    "Explanation: The running sum is obtained as follows: [1, 1+2, 1+2+3, 1+2+3+4]\n",
    "\n",
    "### VERY IMP POINT:\n",
    "\n",
    "Most powerful patterns for subarray problems, especially those involving:\n",
    "- Sums\n",
    "- Modulo operations\n",
    "- Count or length of subarrays\n",
    "\n",
    "### VERY IMP POINT:\n",
    "\n",
    "- Why prefix_map[0] = 1?\n",
    "This handles the case where a subarray starting from index 0 itself is a valid answer.\n",
    "Let's say prefix_sum = k at index i.\n",
    "Then prefix_sum - k = 0 → we want to know how many times 0 occurred before.\n",
    "So initializing prefix_map[0] = 1 allows this to be counted as a valid subarray.\n",
    "\n",
    "- If You Need Longest Subarray Instead of Count\n",
    "You initialize prefix_map[0] = -1.\n",
    "Why? Because if prefix_sum = k at index i, and prefix_sum - k = 0, then the subarray is from index 0 to i, length i - (-1) = i + 1\n",
    "\n",
    "https://leetcode.com/discuss/post/5119937/prefix-sum-problems-by-c0d3m-08l9/#section-1"
   ]
  },
  {
   "cell_type": "code",
   "execution_count": 3,
   "id": "25409106",
   "metadata": {},
   "outputs": [],
   "source": [
    "def prefix_sum_template(nums, k):\n",
    "    prefix_sum = 0                      # 1. Running sum (prefix sum)\n",
    "    answer = 0                          # 3. To store the final result\n",
    "    prefix_map = {0: 1}                # 4a. Initializing: prefix_map[0] = 1 if counting subarrays\n",
    "\n",
    "    # If the problem asks for longest subarray, use this instead:\n",
    "    # prefix_map = {0: -1}             # 4b. For longest length of subarray whose sum is K\n",
    "\n",
    "    for i, num in enumerate(nums):     # 5. Iterate through the array\n",
    "        prefix_sum += num              # Accumulate prefix sum\n",
    "\n",
    "        # 6. Check if (prefix_sum - k) exists in the map\n",
    "        if (prefix_sum - k) in prefix_map:\n",
    "            answer += prefix_map[prefix_sum - k]  # Counting subarrays\n",
    "            # OR for length questions:\n",
    "            # answer = max(answer, i - prefix_map[prefix_sum - k])\n",
    "\n",
    "        # 7. Update the map with current prefix_sum\n",
    "        # If counting:\n",
    "        prefix_map[prefix_sum] = prefix_map.get(prefix_sum, 0) + 1\n",
    "        \n",
    "        # If finding longest length:\n",
    "        # Only store first occurrence\n",
    "        # if prefix_sum not in prefix_map:\n",
    "        #     prefix_map[prefix_sum] = i\n",
    "\n",
    "    return answer"
   ]
  },
  {
   "cell_type": "code",
   "execution_count": 1,
   "id": "884d110b",
   "metadata": {},
   "outputs": [],
   "source": [
    "def running_sum(nums):\n",
    "    running_sum = [nums[0]]\n",
    "\n",
    "    for i in range(1, len(nums)):\n",
    "        running_sum.append(running_sum[i - 1] + nums[i])\n",
    "    return running_sum"
   ]
  },
  {
   "cell_type": "code",
   "execution_count": 2,
   "id": "4ee1214f",
   "metadata": {},
   "outputs": [
    {
     "data": {
      "text/plain": [
       "[1, 3, 6, 10]"
      ]
     },
     "execution_count": 2,
     "metadata": {},
     "output_type": "execute_result"
    }
   ],
   "source": [
    "nums = [1, 2, 3, 4]\n",
    "running_sum(nums)"
   ]
  },
  {
   "cell_type": "markdown",
   "id": "60b482e4",
   "metadata": {},
   "source": [
    "🔢 Problem 2: Range Sum Query – Immutable\n",
    "📄 Problem Statement\n",
    "Given an integer array nums, handle multiple queries of the following type:\n",
    "\n",
    "Calculate the sum of the elements of nums between indices left and right inclusive, where left <= right.\n",
    "\n",
    "Implement the NumArray class:\n",
    "\n",
    "NumArray(int[] nums) Initializes the object with the integer array nums.\n",
    "\n",
    "int sumRange(int left, int right) Returns the sum of the elements of nums between indices left and right inclusive (i.e., nums[left] + nums[left + 1] + ... + nums[right]).\n",
    "\n",
    "🧪 Example\n",
    "Input:\n",
    "\n",
    "nums = [-2, 0, 3, -5, 2, -1]\n",
    "\n",
    "sumRange(0, 2)\n",
    "\n",
    "sumRange(2, 5)\n",
    "\n",
    "sumRange(0, 5)\n",
    "\n",
    "Output:\n",
    "\n",
    "1\n",
    "\n",
    "-1\n",
    "\n",
    "-3"
   ]
  },
  {
   "cell_type": "code",
   "execution_count": 1,
   "id": "87e9b773",
   "metadata": {},
   "outputs": [],
   "source": [
    "class NumArray:\n",
    "    def __init__(self, nums):\n",
    "        self.prefix_sum = [0]\n",
    "        for num in nums:\n",
    "            self.prefix_sum.append(self.prefix_sum[-1] + num)\n",
    "\n",
    "    def sumRange(self, left, right):\n",
    "        return self.prefix_sum[right + 1] - self.prefix_sum[left]"
   ]
  },
  {
   "cell_type": "code",
   "execution_count": null,
   "id": "7007fb68",
   "metadata": {},
   "outputs": [],
   "source": [
    "# Scenario:\n",
    "# You’re part of the Amazon Financial Intelligence team. Your goal is to analyze real-time transaction streams to detect patterns of unusual expense bursts.\n",
    "# You’ve been assigned to write a tool that answers:\n",
    "# “What’s the maximum number of consecutive days (i.e., subarray length) in which the total spend equals exactly $k?”\n",
    "# This is critical for identifying user behavior trends, fraud bursts, and budgeting anomalies.\n",
    "\n",
    "nums = [1, -1, 5, -2, 3], k = 3\n",
    "Output: 4  # Subarray [1, -1, 5, -2] sums to 3"
   ]
  },
  {
   "cell_type": "code",
   "execution_count": null,
   "id": "30b21e87",
   "metadata": {},
   "outputs": [],
   "source": []
  }
 ],
 "metadata": {
  "kernelspec": {
   "display_name": "Python 3",
   "language": "python",
   "name": "python3"
  },
  "language_info": {
   "codemirror_mode": {
    "name": "ipython",
    "version": 3
   },
   "file_extension": ".py",
   "mimetype": "text/x-python",
   "name": "python",
   "nbconvert_exporter": "python",
   "pygments_lexer": "ipython3",
   "version": "3.11.5"
  }
 },
 "nbformat": 4,
 "nbformat_minor": 5
}
