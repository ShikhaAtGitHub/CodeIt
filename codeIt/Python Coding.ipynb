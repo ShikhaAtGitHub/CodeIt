{
 "cells": [
  {
   "cell_type": "code",
   "execution_count": 24,
   "id": "165caba5",
   "metadata": {},
   "outputs": [],
   "source": [
    "from typing import List\n",
    "from collections import Counter\n",
    "import heapq"
   ]
  },
  {
   "cell_type": "code",
   "execution_count": 25,
   "id": "6f407a11",
   "metadata": {},
   "outputs": [],
   "source": [
    "def reorganiseString(s: str) -> str:\n",
    "    count = Counter(s)\n",
    "    maxHeap = [[-cnt, char] for char, cnt in count.items()]\n",
    "    print(maxHeap)\n",
    "    print(heapq.heapify(maxHeap))\n",
    "    prev = None\n",
    "    res = \"\"\n",
    "    \n",
    "    while maxHeap and prev:\n",
    "        # most frequent, except prev\n",
    "        cnt, char = cheapq.heappop(maxHeap)\n",
    "        res += char\n",
    "        cnt += 1\n",
    "        \n",
    "        if cnt != 0:\n",
    "            prev = [cnt, char]\n",
    "        \n",
    "        "
   ]
  },
  {
   "cell_type": "code",
   "execution_count": 26,
   "id": "caf63ac7",
   "metadata": {},
   "outputs": [
    {
     "name": "stdout",
     "output_type": "stream",
     "text": [
      "[[-2, 'a'], [-1, 'b']]\n",
      "None\n"
     ]
    }
   ],
   "source": [
    "s = \"aab\"\n",
    "reorganiseString(s)"
   ]
  },
  {
   "cell_type": "code",
   "execution_count": null,
   "id": "a512be0b",
   "metadata": {},
   "outputs": [],
   "source": []
  },
  {
   "cell_type": "markdown",
   "id": "f9aaecfc",
   "metadata": {},
   "source": [
    "### Reorganise String"
   ]
  },
  {
   "cell_type": "code",
   "execution_count": 27,
   "id": "0df8ebfb",
   "metadata": {},
   "outputs": [],
   "source": [
    "def reorganizeString(s: str):\n",
    "    char_count = Counter(s)\n",
    "        \n",
    "    print(char_count)\n",
    "    \n",
    "    majority_char, majority_count = max(char_count.items(), key = lambda x: x[1])\n",
    "    print(majority_count, 'letter:', majority_char)\n",
    "    \n",
    "    if majority_count > (len(s) + 1) // 2:\n",
    "        return \"\"\n",
    "    \n",
    "    result = [''] * len(s)\n",
    "    \n",
    "    # Fill all even places with majority element\n",
    "    idx = 0\n",
    "    while char_count[majority_char] > 0:\n",
    "        result[idx] = majority_char\n",
    "        idx += 2\n",
    "        char_count[majority_char] -= 1\n",
    "        \n",
    "    print(result)\n",
    "    print(char_count)\n",
    "    \n",
    "    for char, count in char_count.items():\n",
    "        while count > 0:\n",
    "            if idx >= len(s):\n",
    "                idx = 1\n",
    "            result[idx] = char\n",
    "            count -= 1\n",
    "            idx += 2\n",
    "            \n",
    "    print(\"\".join(result))"
   ]
  },
  {
   "cell_type": "code",
   "execution_count": 28,
   "id": "92afde49",
   "metadata": {},
   "outputs": [
    {
     "name": "stdout",
     "output_type": "stream",
     "text": [
      "Counter({'a': 3, 'b': 1})\n",
      "3 letter: a\n"
     ]
    },
    {
     "data": {
      "text/plain": [
       "''"
      ]
     },
     "execution_count": 28,
     "metadata": {},
     "output_type": "execute_result"
    }
   ],
   "source": [
    "reorganizeString(\"aaab\")"
   ]
  },
  {
   "cell_type": "markdown",
   "id": "47b25c35",
   "metadata": {},
   "source": [
    "### Container With Most Water Filled"
   ]
  },
  {
   "cell_type": "code",
   "execution_count": 29,
   "id": "0877f7e9",
   "metadata": {},
   "outputs": [],
   "source": [
    "def maxArea(height: List[int]) -> int:\n",
    "    area = 0\n",
    "    left, right = 0, len(height) - 1\n",
    "    \n",
    "    while (left < right):\n",
    "        length = right - left\n",
    "        min_height = min(height[left], height[right])\n",
    "        print(min_height, length)\n",
    "        current_area = length * min_height\n",
    "        area = max(area, current_area)\n",
    "        print('Current Area:', current_area)\n",
    "        if (height[left] > height[right]):\n",
    "            right -= 1\n",
    "        else:\n",
    "            left += 1\n",
    "    return area     "
   ]
  },
  {
   "cell_type": "code",
   "execution_count": 30,
   "id": "16f7240a",
   "metadata": {},
   "outputs": [],
   "source": [
    "height = [1,8,6,2,5,4,8,3,7]"
   ]
  },
  {
   "cell_type": "code",
   "execution_count": 31,
   "id": "4b6b4505",
   "metadata": {},
   "outputs": [
    {
     "name": "stdout",
     "output_type": "stream",
     "text": [
      "1 8\n",
      "Current Area: 8\n",
      "7 7\n",
      "Current Area: 49\n",
      "3 6\n",
      "Current Area: 18\n",
      "8 5\n",
      "Current Area: 40\n",
      "6 4\n",
      "Current Area: 24\n",
      "2 3\n",
      "Current Area: 6\n",
      "5 2\n",
      "Current Area: 10\n",
      "4 1\n",
      "Current Area: 4\n"
     ]
    },
    {
     "data": {
      "text/plain": [
       "49"
      ]
     },
     "execution_count": 31,
     "metadata": {},
     "output_type": "execute_result"
    }
   ],
   "source": [
    "maxArea(height)"
   ]
  },
  {
   "cell_type": "code",
   "execution_count": 32,
   "id": "4f1fbf62",
   "metadata": {},
   "outputs": [],
   "source": [
    "def find_combinations(nums):\n",
    "    nums.sort()\n",
    "    result = []\n",
    "    print(nums)\n",
    "    for i in range(len(nums)-2):\n",
    "        l, r = i+1, len(nums)-1\n",
    "        \n",
    "        while l < r:\n",
    "            total_sum = nums[i] + nums[l] + nums[r]\n",
    "            \n",
    "            if total_sum == 0:\n",
    "                if nums[i] != 0 or nums[l] != 0 or nums[r] != 0:\n",
    "                    result.append([nums[i], nums[l], nums[r]])\n",
    "                \n",
    "                l += 1\n",
    "                r -= 1\n",
    "                \n",
    "            elif total_sum < 0:\n",
    "                l += 1\n",
    "            else:\n",
    "                r -= 1\n",
    "                \n",
    "    print(result)"
   ]
  },
  {
   "cell_type": "code",
   "execution_count": 33,
   "id": "afed5f2e",
   "metadata": {},
   "outputs": [
    {
     "name": "stdout",
     "output_type": "stream",
     "text": [
      "[-4, -1, 0, 0, 1, 3, 6]\n",
      "[[-4, 1, 3], [-1, 0, 1]]\n"
     ]
    }
   ],
   "source": [
    "input_list = [0, 0, 1, 3, -4, 6, -1]\n",
    "find_combinations(input_list)"
   ]
  },
  {
   "cell_type": "markdown",
   "id": "c7eb0678",
   "metadata": {},
   "source": [
    "#### 3Sum Closest"
   ]
  },
  {
   "cell_type": "code",
   "execution_count": 34,
   "id": "c6a99f28",
   "metadata": {},
   "outputs": [],
   "source": [
    "nums = [-1,0,1,2,-1,-4]\n",
    "nums.sort()\n",
    "# [-4, -1, -1, 0, 1, 2]"
   ]
  },
  {
   "cell_type": "code",
   "execution_count": 39,
   "id": "a07c7d75",
   "metadata": {},
   "outputs": [],
   "source": [
    "def threeSumClosest(nums: List[int], target: int) -> int:\n",
    "        nums.sort()\n",
    "        obtained_num = float('inf')\n",
    "\n",
    "        for i, n in enumerate(nums):\n",
    "            l, r = i+1, len(nums)-1\n",
    "\n",
    "            while l < r:\n",
    "                curr_sum = nums[i] + nums[l] + nums[r]\n",
    "                curr_diff = target - curr_sum\n",
    "                \n",
    "                if curr_diff == target:\n",
    "                    print(curr_sum)\n",
    "                elif curr_diff < target:\n",
    "                    l += 1\n",
    "                else:\n",
    "                    r -= 1\n",
    "                obtained_num = min(obtained_num, curr_diff)\n",
    "        print(curr_sum)"
   ]
  },
  {
   "cell_type": "code",
   "execution_count": 40,
   "id": "671feb0b",
   "metadata": {},
   "outputs": [
    {
     "name": "stdout",
     "output_type": "stream",
     "text": [
      "2\n"
     ]
    }
   ],
   "source": [
    "nums = [-1,2,1,-4]\n",
    "target = 1\n",
    "threeSumClosest(nums, target)"
   ]
  },
  {
   "cell_type": "markdown",
   "id": "3f324cc3",
   "metadata": {},
   "source": [
    "#### Best Time to Buy and Sell Stock"
   ]
  },
  {
   "cell_type": "code",
   "execution_count": 41,
   "id": "a54f542f",
   "metadata": {},
   "outputs": [],
   "source": [
    "prices = [7,1,5,3,6,4]"
   ]
  },
  {
   "cell_type": "code",
   "execution_count": 44,
   "id": "070a874f",
   "metadata": {},
   "outputs": [],
   "source": [
    "def maxProfit(prices: List[int]) -> int:\n",
    "    if not prices or len(prices) == 0:\n",
    "            return 0\n",
    "\n",
    "    max_profit = 0\n",
    "    min_price = prices[0]\n",
    "\n",
    "    for price in prices[1:]:\n",
    "        max_profit = max(max_profit, price - min_price)\n",
    "        min_price = min(min_price, price)\n",
    "\n",
    "    print(max_profit)"
   ]
  },
  {
   "cell_type": "code",
   "execution_count": 45,
   "id": "ac4608de",
   "metadata": {},
   "outputs": [
    {
     "name": "stdout",
     "output_type": "stream",
     "text": [
      "5\n"
     ]
    }
   ],
   "source": [
    "maxProfit(prices)"
   ]
  },
  {
   "cell_type": "markdown",
   "id": "3b261ad4",
   "metadata": {},
   "source": [
    "#### Best Time to Buy and Sell Stock II"
   ]
  },
  {
   "cell_type": "code",
   "execution_count": 66,
   "id": "c4ac76a0",
   "metadata": {},
   "outputs": [],
   "source": [
    "def maxProfit(prices: List[int]) -> int:\n",
    "    profit = 0\n",
    "    for i in range(len(prices) - 1):\n",
    "        if prices[i] < prices[i + 1]:\n",
    "            diff = prices[i + 1] - prices[i]\n",
    "            profit += diff\n",
    "    print(profit)\n",
    "    "
   ]
  },
  {
   "cell_type": "code",
   "execution_count": 67,
   "id": "72abd094",
   "metadata": {},
   "outputs": [],
   "source": [
    "# prices = [7,1,5,3,6,4]\n",
    "# prices = [1,2,3,4,5]\n",
    "prices = [7,6,4,3,1]"
   ]
  },
  {
   "cell_type": "code",
   "execution_count": 68,
   "id": "8cdf303d",
   "metadata": {},
   "outputs": [
    {
     "name": "stdout",
     "output_type": "stream",
     "text": [
      "0\n"
     ]
    }
   ],
   "source": [
    "maxProfit(prices)"
   ]
  },
  {
   "cell_type": "code",
   "execution_count": 64,
   "id": "d13ed820",
   "metadata": {},
   "outputs": [],
   "source": [
    "def maxProfit(prices):\n",
    "    if not prices or len(prices) == 1:\n",
    "        return 0\n",
    "\n",
    "    max_profit = 0\n",
    "\n",
    "    for i in range(1, len(prices)):\n",
    "        if prices[i] > prices[i - 1]:\n",
    "            max_profit += prices[i] - prices[i - 1]\n",
    "\n",
    "    print(max_profit)"
   ]
  },
  {
   "cell_type": "code",
   "execution_count": 65,
   "id": "191276b0",
   "metadata": {},
   "outputs": [
    {
     "name": "stdout",
     "output_type": "stream",
     "text": [
      "0\n"
     ]
    }
   ],
   "source": [
    "maxProfit(prices)"
   ]
  },
  {
   "cell_type": "code",
   "execution_count": 7,
   "id": "cc525419",
   "metadata": {},
   "outputs": [
    {
     "name": "stdout",
     "output_type": "stream",
     "text": [
      "-2\n"
     ]
    }
   ],
   "source": [
    "min_ = float('inf')\n",
    "for i in range(len(A)):\n",
    "    if min_ > A[i]:\n",
    "        min_ = A[i]\n",
    "print(min_)"
   ]
  },
  {
   "cell_type": "code",
   "execution_count": 6,
   "id": "ac6eb0a9",
   "metadata": {},
   "outputs": [],
   "source": [
    "A = [-2, -1, 2, 3]"
   ]
  },
  {
   "cell_type": "code",
   "execution_count": 8,
   "id": "9b69e38e",
   "metadata": {},
   "outputs": [],
   "source": [
    "M = [[1, 2, 3],\n",
    "    [4, 5, 6],\n",
    "    [7, 8, 9]]"
   ]
  },
  {
   "cell_type": "code",
   "execution_count": 9,
   "id": "bacae41f",
   "metadata": {},
   "outputs": [
    {
     "name": "stdout",
     "output_type": "stream",
     "text": [
      "[[1, 2, 3], [4, 5, 6], [7, 8, 9]]\n"
     ]
    }
   ],
   "source": [
    "print(M)"
   ]
  },
  {
   "cell_type": "markdown",
   "id": "ab02437b",
   "metadata": {},
   "source": [
    "#### Remove Element"
   ]
  },
  {
   "cell_type": "code",
   "execution_count": 16,
   "id": "61424c61",
   "metadata": {},
   "outputs": [],
   "source": [
    "#Input:\n",
    "\n",
    "#Output: 2, nums = [2,2,_,_]\n",
    "\n",
    "nums = [3,2,2,3]\n",
    "val = 3"
   ]
  },
  {
   "cell_type": "code",
   "execution_count": 18,
   "id": "cbb5f1d3",
   "metadata": {},
   "outputs": [
    {
     "name": "stdout",
     "output_type": "stream",
     "text": [
      "[2, 2, 2, 3]\n"
     ]
    }
   ],
   "source": [
    "for i in range(1, len(nums)):\n",
    "    if nums[i - 1] == val and nums[i] != val:\n",
    "        nums[i - 1] = nums[i]\n",
    "print(nums)"
   ]
  },
  {
   "cell_type": "markdown",
   "id": "e0c5e4d2",
   "metadata": {},
   "source": [
    "#### Insertion Sort"
   ]
  },
  {
   "cell_type": "code",
   "execution_count": 22,
   "id": "71a971c5",
   "metadata": {},
   "outputs": [],
   "source": [
    "A = [5, -2, 0, 1, 6, 3]"
   ]
  },
  {
   "cell_type": "code",
   "execution_count": 1,
   "id": "0b750cd1",
   "metadata": {},
   "outputs": [
    {
     "ename": "NameError",
     "evalue": "name 'A' is not defined",
     "output_type": "error",
     "traceback": [
      "\u001b[0;31m---------------------------------------------------------------------------\u001b[0m",
      "\u001b[0;31mNameError\u001b[0m                                 Traceback (most recent call last)",
      "Cell \u001b[0;32mIn[1], line 1\u001b[0m\n\u001b[0;32m----> 1\u001b[0m \u001b[38;5;28;01mfor\u001b[39;00m i \u001b[38;5;129;01min\u001b[39;00m \u001b[38;5;28mrange\u001b[39m(\u001b[38;5;241m1\u001b[39m, \u001b[38;5;28mlen\u001b[39m(A)):\n\u001b[1;32m      2\u001b[0m     key \u001b[38;5;241m=\u001b[39m A[i]\n\u001b[1;32m      3\u001b[0m     j \u001b[38;5;241m=\u001b[39m i \u001b[38;5;241m-\u001b[39m \u001b[38;5;241m1\u001b[39m\n",
      "\u001b[0;31mNameError\u001b[0m: name 'A' is not defined"
     ]
    }
   ],
   "source": [
    "for i in range(1, len(A)):\n",
    "    key = A[i]\n",
    "    j = i - 1\n",
    "    \n",
    "    while j >= 0 and A[j] > key:\n",
    "        A[j + 1] = A[j]\n",
    "        j -= 1\n",
    "        \n",
    "    A[j + 1] = key\n",
    "print(A)"
   ]
  },
  {
   "cell_type": "markdown",
   "id": "87aca2b5",
   "metadata": {},
   "source": [
    "Number of substrings of one string present in other"
   ]
  },
  {
   "cell_type": "code",
   "execution_count": 3,
   "id": "ba8b7645",
   "metadata": {},
   "outputs": [],
   "source": [
    "s1 = \"aab\"\n",
    "s2 = \"aaaab\""
   ]
  },
  {
   "cell_type": "code",
   "execution_count": 4,
   "id": "f334f1f4",
   "metadata": {},
   "outputs": [],
   "source": [
    "def find_substring(s1, s2):\n",
    "    count = 0\n",
    "    for i in range(len(s1)):\n",
    "        for j in range(i+1, len(s1)+1):\n",
    "            if s1[i:j] in s2:\n",
    "                count += 1\n",
    "    return count"
   ]
  },
  {
   "cell_type": "code",
   "execution_count": 5,
   "id": "5926b6be",
   "metadata": {},
   "outputs": [
    {
     "data": {
      "text/plain": [
       "6"
      ]
     },
     "execution_count": 5,
     "metadata": {},
     "output_type": "execute_result"
    }
   ],
   "source": [
    "find_substring(s1, s2)"
   ]
  },
  {
   "cell_type": "code",
   "execution_count": 6,
   "id": "51b39ebf",
   "metadata": {},
   "outputs": [
    {
     "data": {
      "text/plain": [
       "3"
      ]
     },
     "execution_count": 6,
     "metadata": {},
     "output_type": "execute_result"
    }
   ],
   "source": [
    "s1 = \"abcd\"\n",
    "s2 = \"swalencud\"\n",
    "\n",
    "find_substring(s1, s2)"
   ]
  },
  {
   "cell_type": "markdown",
   "id": "bf39d45f",
   "metadata": {},
   "source": [
    "Find the count of palindromic sub-string of a string in its sorted form"
   ]
  },
  {
   "cell_type": "code",
   "execution_count": 26,
   "id": "f61755c2",
   "metadata": {},
   "outputs": [],
   "source": [
    "s = \"acbbd\""
   ]
  },
  {
   "cell_type": "code",
   "execution_count": 31,
   "id": "452aa5db",
   "metadata": {},
   "outputs": [],
   "source": [
    "def check_palindrome(s):\n",
    "    return s == s[::-1]\n",
    "\n",
    "substring = []\n",
    "def count_palindromic(s):\n",
    "    for i in range(len(s)):\n",
    "        for j in range(i + 1, len(s) + 1):\n",
    "            # first collect all the substring and then \n",
    "            substring.append(s[i:j])\n",
    "        print(substring)\n",
    "    \n",
    "    # check if palindrome or not\n",
    "    palindrome = [substr for substr in substring if check_palindrome(substr)]\n",
    "    print(palindrome)\n",
    "    palindrome.sort()\n",
    "    \n",
    "    return len(palindrome)"
   ]
  },
  {
   "cell_type": "code",
   "execution_count": 30,
   "id": "90b90b7c",
   "metadata": {},
   "outputs": [
    {
     "name": "stdout",
     "output_type": "stream",
     "text": [
      "['a', 'ac', 'acb', 'acbb', 'acbbd']\n",
      "['a', 'ac', 'acb', 'acbb', 'acbbd', 'c', 'cb', 'cbb', 'cbbd']\n",
      "['a', 'ac', 'acb', 'acbb', 'acbbd', 'c', 'cb', 'cbb', 'cbbd', 'b', 'bb', 'bbd']\n",
      "['a', 'ac', 'acb', 'acbb', 'acbbd', 'c', 'cb', 'cbb', 'cbbd', 'b', 'bb', 'bbd', 'b', 'bd']\n",
      "['a', 'ac', 'acb', 'acbb', 'acbbd', 'c', 'cb', 'cbb', 'cbbd', 'b', 'bb', 'bbd', 'b', 'bd', 'd']\n",
      "['a', 'c', 'b', 'bb', 'b', 'd']\n"
     ]
    },
    {
     "data": {
      "text/plain": [
       "6"
      ]
     },
     "execution_count": 30,
     "metadata": {},
     "output_type": "execute_result"
    }
   ],
   "source": [
    "count_palindromic(s)"
   ]
  },
  {
   "cell_type": "code",
   "execution_count": 32,
   "id": "aac16d00",
   "metadata": {},
   "outputs": [
    {
     "name": "stdout",
     "output_type": "stream",
     "text": [
      "['a', 'ab', 'abb', 'abba', 'abbab', 'abbabd', 'abbabdb', 'abbabdbd']\n",
      "['a', 'ab', 'abb', 'abba', 'abbab', 'abbabd', 'abbabdb', 'abbabdbd', 'b', 'bb', 'bba', 'bbab', 'bbabd', 'bbabdb', 'bbabdbd']\n",
      "['a', 'ab', 'abb', 'abba', 'abbab', 'abbabd', 'abbabdb', 'abbabdbd', 'b', 'bb', 'bba', 'bbab', 'bbabd', 'bbabdb', 'bbabdbd', 'b', 'ba', 'bab', 'babd', 'babdb', 'babdbd']\n",
      "['a', 'ab', 'abb', 'abba', 'abbab', 'abbabd', 'abbabdb', 'abbabdbd', 'b', 'bb', 'bba', 'bbab', 'bbabd', 'bbabdb', 'bbabdbd', 'b', 'ba', 'bab', 'babd', 'babdb', 'babdbd', 'a', 'ab', 'abd', 'abdb', 'abdbd']\n",
      "['a', 'ab', 'abb', 'abba', 'abbab', 'abbabd', 'abbabdb', 'abbabdbd', 'b', 'bb', 'bba', 'bbab', 'bbabd', 'bbabdb', 'bbabdbd', 'b', 'ba', 'bab', 'babd', 'babdb', 'babdbd', 'a', 'ab', 'abd', 'abdb', 'abdbd', 'b', 'bd', 'bdb', 'bdbd']\n",
      "['a', 'ab', 'abb', 'abba', 'abbab', 'abbabd', 'abbabdb', 'abbabdbd', 'b', 'bb', 'bba', 'bbab', 'bbabd', 'bbabdb', 'bbabdbd', 'b', 'ba', 'bab', 'babd', 'babdb', 'babdbd', 'a', 'ab', 'abd', 'abdb', 'abdbd', 'b', 'bd', 'bdb', 'bdbd', 'd', 'db', 'dbd']\n",
      "['a', 'ab', 'abb', 'abba', 'abbab', 'abbabd', 'abbabdb', 'abbabdbd', 'b', 'bb', 'bba', 'bbab', 'bbabd', 'bbabdb', 'bbabdbd', 'b', 'ba', 'bab', 'babd', 'babdb', 'babdbd', 'a', 'ab', 'abd', 'abdb', 'abdbd', 'b', 'bd', 'bdb', 'bdbd', 'd', 'db', 'dbd', 'b', 'bd']\n",
      "['a', 'ab', 'abb', 'abba', 'abbab', 'abbabd', 'abbabdb', 'abbabdbd', 'b', 'bb', 'bba', 'bbab', 'bbabd', 'bbabdb', 'bbabdbd', 'b', 'ba', 'bab', 'babd', 'babdb', 'babdbd', 'a', 'ab', 'abd', 'abdb', 'abdbd', 'b', 'bd', 'bdb', 'bdbd', 'd', 'db', 'dbd', 'b', 'bd', 'd']\n",
      "['a', 'abba', 'b', 'bb', 'b', 'bab', 'a', 'b', 'bdb', 'd', 'dbd', 'b', 'd']\n"
     ]
    },
    {
     "data": {
      "text/plain": [
       "13"
      ]
     },
     "execution_count": 32,
     "metadata": {},
     "output_type": "execute_result"
    }
   ],
   "source": [
    "s2 = \"abbabdbd\"\n",
    "\n",
    "count_palindromic(s2)"
   ]
  },
  {
   "cell_type": "markdown",
   "id": "08ef145f",
   "metadata": {},
   "source": [
    "Check if a string contains a palindromic sub-string of even length"
   ]
  },
  {
   "cell_type": "code",
   "execution_count": 33,
   "id": "3b5b2f27",
   "metadata": {},
   "outputs": [],
   "source": [
    "s = \"abbaeae\"\n",
    "\n",
    "def check_even_len_palindrome(s):\n",
    "    for i in range(len(s)):\n",
    "        l, r = i, i + 1\n",
    "        \n",
    "        while l >= 0 and r < len(s) and s[l] == s[r]:\n",
    "            if (r - l + 1) % 2 == 0:\n",
    "                return \"YES\"\n",
    "            l -= 1\n",
    "            r += 1\n",
    "    return \"NO\""
   ]
  },
  {
   "cell_type": "code",
   "execution_count": 34,
   "id": "f9168600",
   "metadata": {},
   "outputs": [
    {
     "data": {
      "text/plain": [
       "'YES'"
      ]
     },
     "execution_count": 34,
     "metadata": {},
     "output_type": "execute_result"
    }
   ],
   "source": [
    "check_even_len_palindrome(s)"
   ]
  },
  {
   "cell_type": "markdown",
   "id": "a1e7ca55",
   "metadata": {},
   "source": [
    "Distinct palindromic substrings"
   ]
  },
  {
   "cell_type": "code",
   "execution_count": 38,
   "id": "6008f56e",
   "metadata": {},
   "outputs": [],
   "source": [
    "def is_palindrome(s):\n",
    "    return s == s[::-1]\n",
    "\n",
    "distinct_set = set()\n",
    "def distinct_palindrome(s):\n",
    "    for i in range(len(s)):\n",
    "        for j in range(i+1, len(s)+1):\n",
    "            if is_palindrome(s[i:j]):\n",
    "                distinct_set.add(s[i:j])\n",
    "    return distinct_set"
   ]
  },
  {
   "cell_type": "code",
   "execution_count": 39,
   "id": "3f149d53",
   "metadata": {},
   "outputs": [
    {
     "data": {
      "text/plain": [
       "{'a', 'aa', 'aaa', 'aba', 'b'}"
      ]
     },
     "execution_count": 39,
     "metadata": {},
     "output_type": "execute_result"
    }
   ],
   "source": [
    "s = \"abaaa\"\n",
    "distinct_palindrome(s)"
   ]
  },
  {
   "cell_type": "markdown",
   "id": "76059874",
   "metadata": {},
   "source": [
    "Check if a given string is a rotation of a palindrome"
   ]
  },
  {
   "cell_type": "code",
   "execution_count": 45,
   "id": "2f66ace4",
   "metadata": {},
   "outputs": [],
   "source": [
    "def rotation_palindrome(s):\n",
    "    concat = s + s\n",
    "    \n",
    "    if s in concat:\n",
    "        return True\n",
    "    else:\n",
    "        return False"
   ]
  },
  {
   "cell_type": "code",
   "execution_count": 46,
   "id": "e7cddbfa",
   "metadata": {},
   "outputs": [
    {
     "data": {
      "text/plain": [
       "True"
      ]
     },
     "execution_count": 46,
     "metadata": {},
     "output_type": "execute_result"
    }
   ],
   "source": [
    "s = \"aaaab\"\n",
    "rotation_palindrome(s)"
   ]
  },
  {
   "cell_type": "markdown",
   "id": "5615749b",
   "metadata": {},
   "source": [
    "Minimum characters to be added at front to make string palindrome."
   ]
  },
  {
   "cell_type": "code",
   "execution_count": 48,
   "id": "3b5317a5",
   "metadata": {},
   "outputs": [],
   "source": [
    "def min_palindrome(s):\n",
    "    count = 0\n",
    "    l, r = 0 , len(s)-1\n",
    "    \n",
    "    while l < r:\n",
    "        if s[l] != s[r]:\n",
    "            count += 1\n",
    "            r -= 1\n",
    "        else:\n",
    "            l += 1\n",
    "            r -= 1\n",
    "            \n",
    "    return count"
   ]
  },
  {
   "cell_type": "code",
   "execution_count": 49,
   "id": "8eef8cc9",
   "metadata": {},
   "outputs": [
    {
     "data": {
      "text/plain": [
       "2"
      ]
     },
     "execution_count": 49,
     "metadata": {},
     "output_type": "execute_result"
    }
   ],
   "source": [
    "s = \"abc\"\n",
    "min_palindrome(\"abc\")"
   ]
  },
  {
   "cell_type": "code",
   "execution_count": 50,
   "id": "a80bbe8d",
   "metadata": {},
   "outputs": [],
   "source": [
    "import re"
   ]
  },
  {
   "cell_type": "code",
   "execution_count": 56,
   "id": "94630a22",
   "metadata": {},
   "outputs": [
    {
     "name": "stdout",
     "output_type": "stream",
     "text": [
      "['as', 'as']\n"
     ]
    }
   ],
   "source": [
    "s = \"asaasdhh\"\n",
    "p = \"as\"\n",
    "list_ = re.findall(p, s)\n",
    "print(list_)"
   ]
  },
  {
   "cell_type": "code",
   "execution_count": 34,
   "id": "98b588d3",
   "metadata": {},
   "outputs": [],
   "source": [
    "inp = '(()('"
   ]
  },
  {
   "cell_type": "code",
   "execution_count": 35,
   "id": "ecf34cfd",
   "metadata": {},
   "outputs": [],
   "source": [
    "def check_valid(inp):\n",
    "    stack = []\n",
    "    for i in range(len(inp)):\n",
    "        if inp[i] == '(':\n",
    "            stack.append(')')\n",
    "        elif stack.pop() != inp[i]:\n",
    "            return False\n",
    "    return not stack"
   ]
  },
  {
   "cell_type": "code",
   "execution_count": 36,
   "id": "f1abbce8",
   "metadata": {},
   "outputs": [
    {
     "data": {
      "text/plain": [
       "False"
      ]
     },
     "execution_count": 36,
     "metadata": {},
     "output_type": "execute_result"
    }
   ],
   "source": [
    "check_valid(inp)"
   ]
  },
  {
   "cell_type": "code",
   "execution_count": 37,
   "id": "cb706c5b",
   "metadata": {},
   "outputs": [
    {
     "data": {
      "text/plain": [
       "True"
      ]
     },
     "execution_count": 37,
     "metadata": {},
     "output_type": "execute_result"
    }
   ],
   "source": [
    "inp = '()()'\n",
    "check_valid(inp)"
   ]
  },
  {
   "cell_type": "markdown",
   "id": "0f3eadd2",
   "metadata": {},
   "source": [
    "Convert str1 to str2:"
   ]
  },
  {
   "cell_type": "code",
   "execution_count": 1,
   "id": "322faaa2",
   "metadata": {},
   "outputs": [],
   "source": [
    "s1 = \"abeDf\"\n",
    "s2 = \"AD\""
   ]
  },
  {
   "cell_type": "code",
   "execution_count": null,
   "id": "6205fe5c",
   "metadata": {},
   "outputs": [],
   "source": [
    "for i in range(len(s1)):\n",
    "    if len(s2) > len(s1):\n",
    "        return False\n",
    "    if s1[i] in s2 and s1[i].islower():\n",
    "        \n",
    "        "
   ]
  },
  {
   "cell_type": "code",
   "execution_count": 9,
   "id": "4ed8d876",
   "metadata": {},
   "outputs": [],
   "source": [
    "c = [4, 5, 4, 1, 3]"
   ]
  },
  {
   "cell_type": "code",
   "execution_count": 10,
   "id": "dce3566b",
   "metadata": {},
   "outputs": [],
   "source": [
    "def func(c):\n",
    "    max_count = c[0]\n",
    "    sol = [0] * len(c)\n",
    "    sol[0] = c[0]\n",
    "    sol[1] = max(c[0], c[1])\n",
    "    for i in range(2, len(c) - 1):\n",
    "        max_count = max(sol[i - 1], c[i], sol[i - 2])\n",
    "    return sol[len(c) - 1]"
   ]
  },
  {
   "cell_type": "code",
   "execution_count": 11,
   "id": "79156260",
   "metadata": {},
   "outputs": [
    {
     "data": {
      "text/plain": [
       "0"
      ]
     },
     "execution_count": 11,
     "metadata": {},
     "output_type": "execute_result"
    }
   ],
   "source": [
    "func(c)"
   ]
  },
  {
   "cell_type": "code",
   "execution_count": null,
   "id": "0691add1",
   "metadata": {},
   "outputs": [],
   "source": []
  },
  {
   "cell_type": "code",
   "execution_count": null,
   "id": "470a42bb",
   "metadata": {},
   "outputs": [],
   "source": []
  },
  {
   "cell_type": "code",
   "execution_count": null,
   "id": "ffe33fe8",
   "metadata": {},
   "outputs": [],
   "source": []
  },
  {
   "cell_type": "code",
   "execution_count": null,
   "id": "40a20bb8",
   "metadata": {},
   "outputs": [],
   "source": []
  },
  {
   "cell_type": "code",
   "execution_count": null,
   "id": "87828279",
   "metadata": {},
   "outputs": [],
   "source": []
  },
  {
   "cell_type": "code",
   "execution_count": null,
   "id": "72976698",
   "metadata": {},
   "outputs": [],
   "source": []
  },
  {
   "cell_type": "code",
   "execution_count": null,
   "id": "dde964d2",
   "metadata": {},
   "outputs": [],
   "source": []
  },
  {
   "cell_type": "code",
   "execution_count": null,
   "id": "a57ccac6",
   "metadata": {},
   "outputs": [],
   "source": []
  }
 ],
 "metadata": {
  "kernelspec": {
   "display_name": "Python 3 (ipykernel)",
   "language": "python",
   "name": "python3"
  },
  "language_info": {
   "codemirror_mode": {
    "name": "ipython",
    "version": 3
   },
   "file_extension": ".py",
   "mimetype": "text/x-python",
   "name": "python",
   "nbconvert_exporter": "python",
   "pygments_lexer": "ipython3",
   "version": "3.11.4"
  }
 },
 "nbformat": 4,
 "nbformat_minor": 5
}
